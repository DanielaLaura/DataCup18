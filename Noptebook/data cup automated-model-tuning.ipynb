{
 "cells": [
  {
   "cell_type": "code",
   "execution_count": 114,
   "metadata": {
    "collapsed": true,
    "deletable": true,
    "editable": true
   },
   "outputs": [],
   "source": [
    "# Data manipulation\n",
    "import pandas as pd\n",
    "import numpy as np\n",
    "\n",
    "# Modeling\n",
    "import lightgbm as lgb\n",
    "\n",
    "# Evaluation of the model\n",
    "from sklearn.model_selection import KFold, train_test_split\n",
    "from sklearn.metrics import roc_auc_score\n",
    "\n",
    "# Visualization\n",
    "import matplotlib.pyplot as plt\n",
    "import seaborn as sns\n",
    "\n",
    "plt.rcParams['font.size'] = 18\n",
    "%matplotlib inline\n",
    "\n",
    "# Governing choices for search\n",
    "N_FOLDS = 10\n",
    "MAX_EVALS = 10"
   ]
  },
  {
   "cell_type": "code",
   "execution_count": 115,
   "metadata": {
    "collapsed": false,
    "deletable": true,
    "editable": true
   },
   "outputs": [
    {
     "name": "stdout",
     "output_type": "stream",
     "text": [
      "Train shape:  (8900, 60)\n",
      "Test shape:  (3000, 60)\n"
     ]
    },
    {
     "data": {
      "text/html": [
       "<div>\n",
       "<style scoped>\n",
       "    .dataframe tbody tr th:only-of-type {\n",
       "        vertical-align: middle;\n",
       "    }\n",
       "\n",
       "    .dataframe tbody tr th {\n",
       "        vertical-align: top;\n",
       "    }\n",
       "\n",
       "    .dataframe thead th {\n",
       "        text-align: right;\n",
       "    }\n",
       "</style>\n",
       "<table border=\"1\" class=\"dataframe\">\n",
       "  <thead>\n",
       "    <tr style=\"text-align: right;\">\n",
       "      <th></th>\n",
       "      <th>fact_CurrentTotalBalance_count</th>\n",
       "      <th>fact_CurrentTotalBalance_mean</th>\n",
       "      <th>fact_CurrentTotalBalance_max</th>\n",
       "      <th>fact_CurrentTotalBalance_min</th>\n",
       "      <th>fact_CurrentTotalBalance_sum</th>\n",
       "      <th>fact_CurrentTotalBalance_skew</th>\n",
       "      <th>fact_CashBalance_count</th>\n",
       "      <th>fact_CashBalance_mean</th>\n",
       "      <th>fact_CashBalance_max</th>\n",
       "      <th>fact_CashBalance_min</th>\n",
       "      <th>...</th>\n",
       "      <th>('PRIOR_CREDIT_LIMIT_AMT', 'max')</th>\n",
       "      <th>('PRIOR_CREDIT_LIMIT_AMT', 'min')</th>\n",
       "      <th>('PRIOR_CREDIT_LIMIT_AMT', 'sum')</th>\n",
       "      <th>('PRIOR_CREDIT_LIMIT_AMT', 'skew')</th>\n",
       "      <th>('TRANSACTION_AMT', 'count')</th>\n",
       "      <th>('TRANSACTION_AMT', 'mean')</th>\n",
       "      <th>('TRANSACTION_AMT', 'max')</th>\n",
       "      <th>('TRANSACTION_AMT', 'min')</th>\n",
       "      <th>('TRANSACTION_AMT', 'sum')</th>\n",
       "      <th>('TRANSACTION_AMT', 'skew')</th>\n",
       "    </tr>\n",
       "  </thead>\n",
       "  <tbody>\n",
       "    <tr>\n",
       "      <th>10381</th>\n",
       "      <td>14</td>\n",
       "      <td>1424.866429</td>\n",
       "      <td>3340.54</td>\n",
       "      <td>364.64</td>\n",
       "      <td>19948.13</td>\n",
       "      <td>0.854357</td>\n",
       "      <td>14</td>\n",
       "      <td>0.000000</td>\n",
       "      <td>0.00</td>\n",
       "      <td>0.0</td>\n",
       "      <td>...</td>\n",
       "      <td>NaN</td>\n",
       "      <td>NaN</td>\n",
       "      <td>NaN</td>\n",
       "      <td>NaN</td>\n",
       "      <td>NaN</td>\n",
       "      <td>NaN</td>\n",
       "      <td>NaN</td>\n",
       "      <td>NaN</td>\n",
       "      <td>NaN</td>\n",
       "      <td>NaN</td>\n",
       "    </tr>\n",
       "    <tr>\n",
       "      <th>4960</th>\n",
       "      <td>14</td>\n",
       "      <td>648.647143</td>\n",
       "      <td>1219.00</td>\n",
       "      <td>54.57</td>\n",
       "      <td>9081.06</td>\n",
       "      <td>-0.361304</td>\n",
       "      <td>14</td>\n",
       "      <td>0.000000</td>\n",
       "      <td>0.00</td>\n",
       "      <td>0.0</td>\n",
       "      <td>...</td>\n",
       "      <td>NaN</td>\n",
       "      <td>NaN</td>\n",
       "      <td>NaN</td>\n",
       "      <td>NaN</td>\n",
       "      <td>NaN</td>\n",
       "      <td>NaN</td>\n",
       "      <td>NaN</td>\n",
       "      <td>NaN</td>\n",
       "      <td>NaN</td>\n",
       "      <td>NaN</td>\n",
       "    </tr>\n",
       "    <tr>\n",
       "      <th>8163</th>\n",
       "      <td>14</td>\n",
       "      <td>6645.958571</td>\n",
       "      <td>13201.51</td>\n",
       "      <td>2022.48</td>\n",
       "      <td>93043.42</td>\n",
       "      <td>0.607540</td>\n",
       "      <td>14</td>\n",
       "      <td>60.770000</td>\n",
       "      <td>380.10</td>\n",
       "      <td>0.0</td>\n",
       "      <td>...</td>\n",
       "      <td>NaN</td>\n",
       "      <td>NaN</td>\n",
       "      <td>NaN</td>\n",
       "      <td>NaN</td>\n",
       "      <td>NaN</td>\n",
       "      <td>NaN</td>\n",
       "      <td>NaN</td>\n",
       "      <td>NaN</td>\n",
       "      <td>NaN</td>\n",
       "      <td>NaN</td>\n",
       "    </tr>\n",
       "    <tr>\n",
       "      <th>7065</th>\n",
       "      <td>14</td>\n",
       "      <td>1194.207143</td>\n",
       "      <td>2013.94</td>\n",
       "      <td>472.94</td>\n",
       "      <td>16718.90</td>\n",
       "      <td>0.339380</td>\n",
       "      <td>14</td>\n",
       "      <td>0.000000</td>\n",
       "      <td>0.00</td>\n",
       "      <td>0.0</td>\n",
       "      <td>...</td>\n",
       "      <td>NaN</td>\n",
       "      <td>NaN</td>\n",
       "      <td>NaN</td>\n",
       "      <td>NaN</td>\n",
       "      <td>NaN</td>\n",
       "      <td>NaN</td>\n",
       "      <td>NaN</td>\n",
       "      <td>NaN</td>\n",
       "      <td>NaN</td>\n",
       "      <td>NaN</td>\n",
       "    </tr>\n",
       "    <tr>\n",
       "      <th>2987</th>\n",
       "      <td>14</td>\n",
       "      <td>849.707143</td>\n",
       "      <td>975.20</td>\n",
       "      <td>562.57</td>\n",
       "      <td>11895.90</td>\n",
       "      <td>-1.504595</td>\n",
       "      <td>14</td>\n",
       "      <td>5.596429</td>\n",
       "      <td>46.35</td>\n",
       "      <td>0.0</td>\n",
       "      <td>...</td>\n",
       "      <td>625.0</td>\n",
       "      <td>22.0</td>\n",
       "      <td>45924.0</td>\n",
       "      <td>1.303881</td>\n",
       "      <td>201.0</td>\n",
       "      <td>27.075622</td>\n",
       "      <td>469.2</td>\n",
       "      <td>0.0</td>\n",
       "      <td>5442.2</td>\n",
       "      <td>4.928984</td>\n",
       "    </tr>\n",
       "  </tbody>\n",
       "</table>\n",
       "<p>5 rows × 60 columns</p>\n",
       "</div>"
      ],
      "text/plain": [
       "       fact_CurrentTotalBalance_count  fact_CurrentTotalBalance_mean  \\\n",
       "10381                              14                    1424.866429   \n",
       "4960                               14                     648.647143   \n",
       "8163                               14                    6645.958571   \n",
       "7065                               14                    1194.207143   \n",
       "2987                               14                     849.707143   \n",
       "\n",
       "       fact_CurrentTotalBalance_max  fact_CurrentTotalBalance_min  \\\n",
       "10381                       3340.54                        364.64   \n",
       "4960                        1219.00                         54.57   \n",
       "8163                       13201.51                       2022.48   \n",
       "7065                        2013.94                        472.94   \n",
       "2987                         975.20                        562.57   \n",
       "\n",
       "       fact_CurrentTotalBalance_sum  fact_CurrentTotalBalance_skew  \\\n",
       "10381                      19948.13                       0.854357   \n",
       "4960                        9081.06                      -0.361304   \n",
       "8163                       93043.42                       0.607540   \n",
       "7065                       16718.90                       0.339380   \n",
       "2987                       11895.90                      -1.504595   \n",
       "\n",
       "       fact_CashBalance_count  fact_CashBalance_mean  fact_CashBalance_max  \\\n",
       "10381                      14               0.000000                  0.00   \n",
       "4960                       14               0.000000                  0.00   \n",
       "8163                       14              60.770000                380.10   \n",
       "7065                       14               0.000000                  0.00   \n",
       "2987                       14               5.596429                 46.35   \n",
       "\n",
       "       fact_CashBalance_min             ...               \\\n",
       "10381                   0.0             ...                \n",
       "4960                    0.0             ...                \n",
       "8163                    0.0             ...                \n",
       "7065                    0.0             ...                \n",
       "2987                    0.0             ...                \n",
       "\n",
       "       ('PRIOR_CREDIT_LIMIT_AMT', 'max')  ('PRIOR_CREDIT_LIMIT_AMT', 'min')  \\\n",
       "10381                                NaN                                NaN   \n",
       "4960                                 NaN                                NaN   \n",
       "8163                                 NaN                                NaN   \n",
       "7065                                 NaN                                NaN   \n",
       "2987                               625.0                               22.0   \n",
       "\n",
       "       ('PRIOR_CREDIT_LIMIT_AMT', 'sum')  ('PRIOR_CREDIT_LIMIT_AMT', 'skew')  \\\n",
       "10381                                NaN                                 NaN   \n",
       "4960                                 NaN                                 NaN   \n",
       "8163                                 NaN                                 NaN   \n",
       "7065                                 NaN                                 NaN   \n",
       "2987                             45924.0                            1.303881   \n",
       "\n",
       "       ('TRANSACTION_AMT', 'count')  ('TRANSACTION_AMT', 'mean')  \\\n",
       "10381                           NaN                          NaN   \n",
       "4960                            NaN                          NaN   \n",
       "8163                            NaN                          NaN   \n",
       "7065                            NaN                          NaN   \n",
       "2987                          201.0                    27.075622   \n",
       "\n",
       "       ('TRANSACTION_AMT', 'max')  ('TRANSACTION_AMT', 'min')  \\\n",
       "10381                         NaN                         NaN   \n",
       "4960                          NaN                         NaN   \n",
       "8163                          NaN                         NaN   \n",
       "7065                          NaN                         NaN   \n",
       "2987                        469.2                         0.0   \n",
       "\n",
       "       ('TRANSACTION_AMT', 'sum')  ('TRANSACTION_AMT', 'skew')  \n",
       "10381                         NaN                          NaN  \n",
       "4960                          NaN                          NaN  \n",
       "8163                          NaN                          NaN  \n",
       "7065                          NaN                          NaN  \n",
       "2987                       5442.2                     4.928984  \n",
       "\n",
       "[5 rows x 60 columns]"
      ]
     },
     "execution_count": 115,
     "metadata": {},
     "output_type": "execute_result"
    }
   ],
   "source": [
    "features = pd.read_csv('train_good.csv')\n",
    "\n",
    "# Sample 16000 rows (10000 for training, 6000 for testing)\n",
    "features = features.sample(n = 11900, random_state = 42)\n",
    "\n",
    "# Only numeric features\n",
    "features = features.select_dtypes('number')\n",
    "\n",
    "# Extract the labels\n",
    "labels = np.array(features['Default'].astype(np.int32)).reshape((-1, ))\n",
    "features = features.drop(columns = ['Default', 'ID_CPTE'])\n",
    "\n",
    "# Split into training and testing data\n",
    "train_features, test_features, train_labels, test_labels = train_test_split(features, labels, test_size = 3000, random_state = 42)\n",
    "\n",
    "print('Train shape: ', train_features.shape)\n",
    "print('Test shape: ', test_features.shape)\n",
    "\n",
    "train_features.head()"
   ]
  },
  {
   "cell_type": "markdown",
   "metadata": {
    "deletable": true,
    "editable": true
   },
   "source": [
    "### Baseline Model"
   ]
  },
  {
   "cell_type": "code",
   "execution_count": 116,
   "metadata": {
    "collapsed": true,
    "deletable": true,
    "editable": true
   },
   "outputs": [],
   "source": [
    "model = lgb.LGBMClassifier(random_state=50)\n",
    "\n",
    "# Training set\n",
    "train_set = lgb.Dataset(train_features, label = train_labels)\n",
    "test_set = lgb.Dataset(test_features, label = test_labels)"
   ]
  },
  {
   "cell_type": "code",
   "execution_count": 117,
   "metadata": {
    "collapsed": false,
    "deletable": true,
    "editable": true
   },
   "outputs": [
    {
     "name": "stderr",
     "output_type": "stream",
     "text": [
      "C:\\Users\\Daniela\\Anaconda3\\lib\\site-packages\\lightgbm\\basic.py:657: UserWarning: silent keyword has been found in `params` and will be ignored. Please use silent argument of the Dataset constructor to pass this parameter.\n",
      "  'Please use {0} argument of the Dataset constructor to pass this parameter.'.format(key))\n"
     ]
    },
    {
     "name": "stdout",
     "output_type": "stream",
     "text": [
      "The maximium ROC AUC in cross validation was 0.88698 with std of 0.00852.\n",
      "The ideal number of iterations was 29.\n"
     ]
    }
   ],
   "source": [
    "# Default hyperparamters\n",
    "hyperparameters = model.get_params()\n",
    "\n",
    "# Using early stopping to determine number of estimators.\n",
    "del hyperparameters['n_estimators']\n",
    "\n",
    "# Perform cross validation with early stopping\n",
    "cv_results = lgb.cv(hyperparameters, train_set, num_boost_round = 10000, nfold = N_FOLDS, metrics = 'auc', \n",
    "           early_stopping_rounds = 100, verbose_eval = False, seed = 42)\n",
    "\n",
    "# Highest score\n",
    "best = cv_results['auc-mean'][-1]\n",
    "\n",
    "# Standard deviation of best score\n",
    "best_std = cv_results['auc-stdv'][-1]\n",
    "\n",
    "print('The maximium ROC AUC in cross validation was {:.5f} with std of {:.5f}.'.format(best, best_std))\n",
    "print('The ideal number of iterations was {}.'.format(len(cv_results['auc-mean'])))"
   ]
  },
  {
   "cell_type": "markdown",
   "metadata": {
    "deletable": true,
    "editable": true
   },
   "source": [
    "Now we can evaluate the baseline model on the testing data."
   ]
  },
  {
   "cell_type": "code",
   "execution_count": 118,
   "metadata": {
    "collapsed": false,
    "deletable": true,
    "editable": true
   },
   "outputs": [
    {
     "name": "stdout",
     "output_type": "stream",
     "text": [
      "The baseline model scores 0.88282 ROC AUC on the test set.\n"
     ]
    }
   ],
   "source": [
    " #Optimal number of esimators found in cv\n",
    "model.n_estimators = len(cv_results['auc-mean'])\n",
    "\n",
    "# Train and make predicions with model\n",
    "model.fit(train_features, train_labels)\n",
    "preds = model.predict_proba(test_features)[:, 1]\n",
    "baseline_auc = roc_auc_score(test_labels, preds)\n",
    "\n",
    "print('The baseline model scores {:.5f} ROC AUC on the test set.'.format(baseline_auc))"
   ]
  },
  {
   "cell_type": "markdown",
   "metadata": {
    "deletable": true,
    "editable": true
   },
   "source": [
    "### Objective Function"
   ]
  },
  {
   "cell_type": "code",
   "execution_count": 119,
   "metadata": {
    "collapsed": false,
    "deletable": true,
    "editable": true
   },
   "outputs": [],
   "source": [
    "import csv\n",
    "from hyperopt import STATUS_OK\n",
    "from timeit import default_timer as timer\n",
    "\n",
    "def objective(hyperparameters):\n",
    "    \"\"\"Objective function for Gradient Boosting Machine Hyperparameter Optimization.\n",
    "       Writes a new line to `outfile` on every iteration\"\"\"\n",
    "    \n",
    "    # Keep track of evals\n",
    "    global ITERATION\n",
    "    \n",
    "    ITERATION += 1\n",
    "    \n",
    "    # Using early stopping to find number of trees trained\n",
    "    if 'n_estimators' in hyperparameters:\n",
    "        del hyperparameters['n_estimators']\n",
    "    \n",
    "    # Retrieve the subsample\n",
    "    subsample = hyperparameters['boosting_type'].get('subsample', 1.0)\n",
    "    \n",
    "    # Extract the boosting type and subsample to top level keys\n",
    "    hyperparameters['boosting_type'] = hyperparameters['boosting_type']['boosting_type']\n",
    "    hyperparameters['subsample'] = subsample\n",
    "    \n",
    "    # Make sure parameters that need to be integers are integers\n",
    "    for parameter_name in ['num_leaves', 'subsample_for_bin', 'min_child_samples']:\n",
    "        hyperparameters[parameter_name] = int(hyperparameters[parameter_name])\n",
    "\n",
    "    start = timer()\n",
    "    \n",
    "    # Perform n_folds cross validation\n",
    "    cv_results = lgb.cv(hyperparameters, train_set, num_boost_round = 10000, nfold = N_FOLDS, \n",
    "                        early_stopping_rounds = 100, metrics = 'auc', seed = 50)\n",
    "\n",
    "    run_time = timer() - start\n",
    "    \n",
    "    # Extract the best score\n",
    "    best_score = cv_results['auc-mean'][-1]\n",
    "    \n",
    "    # Loss must be minimized\n",
    "    loss = 1 - best_score\n",
    "    \n",
    "    # Boosting rounds that returned the highest cv score\n",
    "    n_estimators = len(cv_results['auc-mean'])\n",
    "    \n",
    "    # Add the number of estimators to the hyperparameters\n",
    "    hyperparameters['n_estimators'] = n_estimators\n",
    "\n",
    "    # Write to the csv file ('a' means append)\n",
    "    of_connection = open(OUT_FILE, 'a')\n",
    "    writer = csv.writer(of_connection)\n",
    "    writer.writerow([loss, hyperparameters, ITERATION, run_time, best_score])\n",
    "    of_connection.close()\n",
    "\n",
    "    # Dictionary with information for evaluation\n",
    "    return {'loss': loss, 'hyperparameters': hyperparameters, 'iteration': ITERATION,\n",
    "            'train_time': run_time, 'status': STATUS_OK}"
   ]
  },
  {
   "cell_type": "markdown",
   "metadata": {
    "deletable": true,
    "editable": true
   },
   "source": [
    "### Domain\n",
    "\n",
    "Specifying the domain (called the space in Hyperopt) is a little trickier than in grid search. In Hyperopt, and other Bayesian optimization frameworks, the domian is not a discrete grid but instead has probability distributions for each hyperparameter. For each hyperparameter, we will use the same limits as with the grid, but instead of being defined at each point, the domain represents probabilities for each hyperparameter. This will probably become clearer in the code and the images!"
   ]
  },
  {
   "cell_type": "code",
   "execution_count": 120,
   "metadata": {
    "collapsed": true,
    "deletable": true,
    "editable": true
   },
   "outputs": [],
   "source": [
    "from hyperopt import hp\n",
    "from hyperopt.pyll.stochastic import sample"
   ]
  },
  {
   "cell_type": "code",
   "execution_count": 121,
   "metadata": {
    "collapsed": true,
    "deletable": true,
    "editable": true
   },
   "outputs": [],
   "source": [
    "# Create the learning rate\n",
    "learning_rate = {'learning_rate': hp.loguniform('learning_rate', np.log(0.005), np.log(0.2))}"
   ]
  },
  {
   "cell_type": "code",
   "execution_count": 122,
   "metadata": {
    "collapsed": false,
    "deletable": true,
    "editable": true
   },
   "outputs": [
    {
     "data": {
      "image/png": "[encoded data removed]",
      "text/plain": [
       "<Figure size 576x432 with 1 Axes>"
      ]
     },
     "metadata": {},
     "output_type": "display_data"
    }
   ],
   "source": [
    "learning_rate_dist = []\n",
    "\n",
    "# Draw 10000 samples from the learning rate domain\n",
    "for _ in range(7900):\n",
    "    learning_rate_dist.append(sample(learning_rate)['learning_rate'])\n",
    "    \n",
    "plt.figure(figsize = (8, 6))\n",
    "sns.kdeplot(learning_rate_dist, color = 'red', linewidth = 2, shade = True);\n",
    "plt.title('Learning Rate Distribution', size = 18); plt.xlabel('Learning Rate', size = 16); plt.ylabel('Density', size = 16);"
   ]
  },
  {
   "cell_type": "code",
   "execution_count": 123,
   "metadata": {
    "collapsed": false,
    "deletable": true,
    "editable": true
   },
   "outputs": [
    {
     "data": {
      "image/png": "[encoded data removed]",
      "text/plain": [
       "<Figure size 576x432 with 1 Axes>"
      ]
     },
     "metadata": {},
     "output_type": "display_data"
    }
   ],
   "source": [
    "# Discrete uniform distribution\n",
    "num_leaves = {'num_leaves': hp.quniform('num_leaves', 30, 150, 1)}\n",
    "num_leaves_dist = []\n",
    "\n",
    "# Sample 10000 times from the number of leaves distribution\n",
    "for _ in range(7900):\n",
    "    num_leaves_dist.append(sample(num_leaves)['num_leaves'])\n",
    "    \n",
    "# kdeplot\n",
    "plt.figure(figsize = (8, 6))\n",
    "sns.kdeplot(num_leaves_dist, linewidth = 2, shade = True);\n",
    "plt.title('Number of Leaves Distribution', size = 18); plt.xlabel('Number of Leaves', size = 16); plt.ylabel('Density', size = 16);"
   ]
  },
  {
   "cell_type": "markdown",
   "metadata": {
    "deletable": true,
    "editable": true
   },
   "source": [
    "Conditional Domain\n",
    "In Hyperopt, we can use nested conditional statements to indicate hyperparameters that depend on other hyperparameters. For example, the \"goss\" boosting_type cannot use subsampling, so when we set up the boosting_type categorical variable, we have to set the subsample to 1.0 while for the other boosting types it's a float between 0.5 and 1.0."
   ]
  },
  {
   "cell_type": "code",
   "execution_count": 124,
   "metadata": {
    "collapsed": false,
    "deletable": true,
    "editable": true
   },
   "outputs": [
    {
     "data": {
      "text/plain": [
       "{'boosting_type': {'boosting_type': 'goss', 'subsample': 1.0}}"
      ]
     },
     "execution_count": 124,
     "metadata": {},
     "output_type": "execute_result"
    }
   ],
   "source": [
    "# boosting type domain \n",
    "boosting_type = {'boosting_type': hp.choice('boosting_type', \n",
    "                                            [{'boosting_type': 'gbdt', 'subsample': hp.uniform('subsample', 0.5, 1)}, \n",
    "                                             {'boosting_type': 'dart', 'subsample': hp.uniform('subsample', 0.5, 1)},\n",
    "                                             {'boosting_type': 'goss', 'subsample': 1.0}])}\n",
    "\n",
    "# Draw a sample\n",
    "hyperparams = sample(boosting_type)\n",
    "hyperparams"
   ]
  },
  {
   "cell_type": "markdown",
   "metadata": {
    "deletable": true,
    "editable": true
   },
   "source": [
    "We need to set both the boosting_type and subsample as top-level keys in the parameter dictionary. We can use the Python dict.get method with a default value of 1.0. This means that if the key is not present in the dictionary, the value returned will be the default (1.0)."
   ]
  },
  {
   "cell_type": "code",
   "execution_count": 125,
   "metadata": {
    "collapsed": false,
    "deletable": true,
    "editable": true
   },
   "outputs": [
    {
     "data": {
      "text/plain": [
       "{'boosting_type': 'goss', 'subsample': 1.0}"
      ]
     },
     "execution_count": 125,
     "metadata": {},
     "output_type": "execute_result"
    }
   ],
   "source": [
    "# Retrieve the subsample if present otherwise set to 1.0\n",
    "subsample = hyperparams['boosting_type'].get('subsample', 1.0)\n",
    "\n",
    "# Extract the boosting type\n",
    "hyperparams['boosting_type'] = hyperparams['boosting_type']['boosting_type']\n",
    "hyperparams['subsample'] = subsample\n",
    "\n",
    "hyperparams"
   ]
  },
  {
   "cell_type": "markdown",
   "metadata": {
    "deletable": true,
    "editable": true
   },
   "source": [
    "The gbm cannot use the nested dictionary so we need to set the boosting_type and subsample as top level keys.\n",
    "\n",
    "Nested conditionals allow us to use a different set of hyperparameters depending on other hyperparameters. For example, we can explore different models with completely different sets of hyperparameters by using nested conditionals. The only requirement is that the first nested statement must be based on a choice hyperparameter (the choice could be the type of model).\n",
    "\n",
    "### Complete Bayesian Domain\n",
    "\n",
    "Now we can define the entire domain. Each variable needs to have a label and a few parameters specifying the type and extent of the distribution. For the variables such as boosting type that are categorical, we use the choice variable. Other variables types include quniform, loguniform, and uniform. For the complete list, check out the documentation for Hyperopt. Altogether there are 10 hyperparameters to optimize."
   ]
  },
  {
   "cell_type": "code",
   "execution_count": 126,
   "metadata": {
    "collapsed": true,
    "deletable": true,
    "editable": true
   },
   "outputs": [],
   "source": [
    "# Define the search space\n",
    "space = {\n",
    "    'boosting_type': hp.choice('boosting_type', \n",
    "                                            [{'boosting_type': 'gbdt', 'subsample': hp.uniform('gdbt_subsample', 0.5, 1)}, \n",
    "                                             {'boosting_type': 'dart', 'subsample': hp.uniform('dart_subsample', 0.5, 1)},\n",
    "                                             {'boosting_type': 'goss', 'subsample': 1.0}]),\n",
    "    'num_leaves': hp.quniform('num_leaves', 20, 150, 1),\n",
    "    'learning_rate': hp.loguniform('learning_rate', np.log(0.01), np.log(0.5)),\n",
    "    'subsample_for_bin': hp.quniform('subsample_for_bin', 20000, 300000, 20000),\n",
    "    'min_child_samples': hp.quniform('min_child_samples', 20, 500, 5),\n",
    "    'reg_alpha': hp.uniform('reg_alpha', 0.0, 1.0),\n",
    "    'reg_lambda': hp.uniform('reg_lambda', 0.0, 1.0),\n",
    "    'colsample_bytree': hp.uniform('colsample_by_tree', 0.6, 1.0),\n",
    "    'is_unbalance': hp.choice('is_unbalance', [True, False]),\n",
    "}"
   ]
  },
  {
   "cell_type": "markdown",
   "metadata": {
    "deletable": true,
    "editable": true
   },
   "source": [
    "Example of Sampling from the Domain\n",
    "Let's sample from the domain (using the conditional logic) to see the result of each draw. Every time we run this code, the results will change. (Again notice that we need to assign the top level keys to the keywords understood by the GBM)."
   ]
  },
  {
   "cell_type": "code",
   "execution_count": 127,
   "metadata": {
    "collapsed": false,
    "deletable": true,
    "editable": true
   },
   "outputs": [
    {
     "data": {
      "text/plain": [
       "{'boosting_type': 'goss',\n",
       " 'colsample_bytree': 0.9252938188014599,\n",
       " 'is_unbalance': False,\n",
       " 'learning_rate': 0.03777302613386964,\n",
       " 'min_child_samples': 200.0,\n",
       " 'num_leaves': 138.0,\n",
       " 'reg_alpha': 0.6927228103324505,\n",
       " 'reg_lambda': 0.18207869731617476,\n",
       " 'subsample': 1.0,\n",
       " 'subsample_for_bin': 100000.0}"
      ]
     },
     "execution_count": 127,
     "metadata": {},
     "output_type": "execute_result"
    }
   ],
   "source": [
    "# Sample from the full space\n",
    "x = sample(space)\n",
    "\n",
    "# Conditional logic to assign top-level keys\n",
    "subsample = x['boosting_type'].get('subsample', 1.0)\n",
    "x['boosting_type'] = x['boosting_type']['boosting_type']\n",
    "x['subsample'] = subsample\n",
    "\n",
    "x"
   ]
  },
  {
   "cell_type": "code",
   "execution_count": 128,
   "metadata": {
    "collapsed": false,
    "deletable": true,
    "editable": true
   },
   "outputs": [
    {
     "data": {
      "text/plain": [
       "{'boosting_type': 'gbdt',\n",
       " 'colsample_bytree': 0.6321276859520862,\n",
       " 'is_unbalance': False,\n",
       " 'learning_rate': 0.030957593776215753,\n",
       " 'min_child_samples': 55.0,\n",
       " 'num_leaves': 109.0,\n",
       " 'reg_alpha': 0.5815123237458364,\n",
       " 'reg_lambda': 0.8183893826118409,\n",
       " 'subsample': 0.8905510555126552,\n",
       " 'subsample_for_bin': 200000.0}"
      ]
     },
     "execution_count": 128,
     "metadata": {},
     "output_type": "execute_result"
    }
   ],
   "source": [
    "x = sample(space)\n",
    "subsample = x['boosting_type'].get('subsample', 1.0)\n",
    "x['boosting_type'] = x['boosting_type']['boosting_type']\n",
    "x['subsample'] = subsample\n",
    "x"
   ]
  },
  {
   "cell_type": "markdown",
   "metadata": {
    "deletable": true,
    "editable": true
   },
   "source": [
    "Let's test the objective function with the domain to make sure it works. (Every time the of_connection line is run, the outfile will be overwritten, so use a different name for each trial to save the results.)"
   ]
  },
  {
   "cell_type": "code",
   "execution_count": 129,
   "metadata": {
    "collapsed": false,
    "deletable": true,
    "editable": true
   },
   "outputs": [
    {
     "name": "stdout",
     "output_type": "stream",
     "text": [
      "The cross validation loss = 0.10722.\n",
      "The optimal number of estimators was 329.\n"
     ]
    }
   ],
   "source": [
    "# Create a new file and open a connection\n",
    "OUT_FILE = 'bayes_test.csv'\n",
    "of_connection = open(OUT_FILE, 'w')\n",
    "writer = csv.writer(of_connection)\n",
    "\n",
    "ITERATION = 0\n",
    "\n",
    "# Write column names\n",
    "headers = ['loss', 'hyperparameters', 'iteration', 'runtime', 'score']\n",
    "writer.writerow(headers)\n",
    "of_connection.close()\n",
    "\n",
    "# Test the objective function\n",
    "results = objective(sample(space))\n",
    "print('The cross validation loss = {:.5f}.'.format(results['loss']))\n",
    "print('The optimal number of estimators was {}.'.format(results['hyperparameters']['n_estimators']))"
   ]
  },
  {
   "cell_type": "markdown",
   "metadata": {
    "deletable": true,
    "editable": true
   },
   "source": [
    "### Optimization Algorithm\n",
    "\n",
    "The optimization algorithm is the method for constructing the surrogate function (probability model) and selecting the next set of hyperparameters to evaluate in the objective function. Hyperopt has two choices: random search and Tree Parzen Estimator.\n",
    "\n",
    "The technical details of TPE can be found in this article and a conceptual explanation is in this article. Although this is the most technical part of Bayesian hyperparameter optimization, defining the algorithm in Hyperopt is simple."
   ]
  },
  {
   "cell_type": "code",
   "execution_count": 130,
   "metadata": {
    "collapsed": true,
    "deletable": true,
    "editable": true
   },
   "outputs": [],
   "source": [
    "from hyperopt import Trials\n",
    "\n",
    "# Record results\n",
    "trials = Trials()"
   ]
  },
  {
   "cell_type": "markdown",
   "metadata": {
    "deletable": true,
    "editable": true
   },
   "source": [
    "The Trials object will hold everything returned from the objective function in the .results attribute. We can use this after the search is complete to inspect the results, but an easier method is to read in the csv file because that will already be in a dataframe."
   ]
  },
  {
   "cell_type": "code",
   "execution_count": 131,
   "metadata": {
    "collapsed": true,
    "deletable": true,
    "editable": true
   },
   "outputs": [],
   "source": [
    "# Create a file and open a connection\n",
    "OUT_FILE = 'bayes_test.csv'\n",
    "of_connection = open(OUT_FILE, 'w')\n",
    "writer = csv.writer(of_connection)\n",
    "\n",
    "ITERATION = 0\n",
    "\n",
    "# Write column names\n",
    "headers = ['loss', 'hyperparameters', 'iteration', 'runtime', 'score']\n",
    "writer.writerow(headers)\n",
    "of_connection.close()"
   ]
  },
  {
   "cell_type": "markdown",
   "metadata": {
    "deletable": true,
    "editable": true
   },
   "source": [
    "### Automated Hyperparameter Optimization in Practice\n",
    "\n",
    "We have all four parts we need to run the optimization. To run Bayesian optimization we use the fmin function (a good reminder that we need a metric to minimize!)"
   ]
  },
  {
   "cell_type": "code",
   "execution_count": 132,
   "metadata": {
    "collapsed": true,
    "deletable": true,
    "editable": true
   },
   "outputs": [],
   "source": [
    "from hyperopt import fmin, tpe, hp"
   ]
  },
  {
   "cell_type": "markdown",
   "metadata": {
    "deletable": true,
    "editable": true
   },
   "source": [
    "fmin takes the four parts defined above as well as the maximum number of iterations max_evals."
   ]
  },
  {
   "cell_type": "code",
   "execution_count": 133,
   "metadata": {
    "collapsed": false,
    "deletable": true,
    "editable": true
   },
   "outputs": [
    {
     "data": {
      "text/plain": [
       "{'boosting_type': 1,\n",
       " 'colsample_by_tree': 0.991304678949413,\n",
       " 'dart_subsample': 0.8090820541658564,\n",
       " 'is_unbalance': 1,\n",
       " 'learning_rate': 0.03756977692658773,\n",
       " 'min_child_samples': 350.0,\n",
       " 'num_leaves': 67.0,\n",
       " 'reg_alpha': 0.5073057282312433,\n",
       " 'reg_lambda': 0.3338005245605391,\n",
       " 'subsample_for_bin': 260000.0}"
      ]
     },
     "execution_count": 133,
     "metadata": {},
     "output_type": "execute_result"
    }
   ],
   "source": [
    "# Global variable\n",
    "global  ITERATION\n",
    "\n",
    "ITERATION = 0\n",
    "\n",
    "# Run optimization\n",
    "best = fmin(fn = objective, space = space, algo = tpe.suggest, trials = trials,\n",
    "            max_evals = MAX_EVALS)\n",
    "\n",
    "best"
   ]
  },
  {
   "cell_type": "code",
   "execution_count": 138,
   "metadata": {
    "collapsed": true,
    "deletable": true,
    "editable": true
   },
   "outputs": [],
   "source": [
    "results = pd.read_csv(OUT_FILE)"
   ]
  },
  {
   "cell_type": "markdown",
   "metadata": {
    "deletable": true,
    "editable": true
   },
   "source": [
    "The function below takes in the results, trains a model on the training data, and evalutes on the testing data. It returns a dataframe of hyperparameters from the search.\n",
    "\n",
    "Saving the results to a csv file converts the dictionary of hyperparameters to a string. We need to map this back to a dictionary using ast.literal_eval."
   ]
  },
  {
   "cell_type": "code",
   "execution_count": 135,
   "metadata": {
    "collapsed": true,
    "deletable": true,
    "editable": true
   },
   "outputs": [],
   "source": [
    "import ast\n",
    "\n",
    "def evaluate(results, name):\n",
    "    \"\"\"Evaluate model on test data using hyperparameters in results\n",
    "       Return dataframe of hyperparameters\"\"\"\n",
    "    \n",
    "    new_results = results.copy()\n",
    "    # String to dictionary\n",
    "    new_results['hyperparameters'] = new_results['hyperparameters'].map(ast.literal_eval)\n",
    "    \n",
    "    # Sort with best values on top\n",
    "    new_results = new_results.sort_values('score', ascending = False).reset_index(drop = True)\n",
    "    \n",
    "    # Print out cross validation high score\n",
    "    print('The highest cross validation score from {} was {:.5f} found on iteration {}.'.format(name, new_results.loc[0, 'score'], new_results.loc[0, 'iteration']))\n",
    "    \n",
    "    # Use best hyperparameters to create a model\n",
    "    hyperparameters = new_results.loc[0, 'hyperparameters']\n",
    "    model = lgb.LGBMClassifier(**hyperparameters)\n",
    "    \n",
    "    # Train and make predictions\n",
    "    model.fit(train_features, train_labels)\n",
    "    preds = model.predict_proba(test_features)[:, 1]\n",
    "    \n",
    "    print('ROC AUC from {} on test data = {:.5f}.'.format(name, roc_auc_score(test_labels, preds)))\n",
    "    \n",
    "    # Create dataframe of hyperparameters\n",
    "    hyp_df = pd.DataFrame(columns = list(new_results.loc[0, 'hyperparameters'].keys()))\n",
    "\n",
    "    # Iterate through each set of hyperparameters that were evaluated\n",
    "    for i, hyp in enumerate(new_results['hyperparameters']):\n",
    "        hyp_df = hyp_df.append(pd.DataFrame(hyp, index = [0]), \n",
    "                               ignore_index = True)\n",
    "        \n",
    "    # Put the iteration and score in the hyperparameter dataframe\n",
    "    hyp_df['iteration'] = new_results['iteration']\n",
    "    hyp_df['score'] = new_results['score']\n",
    "    \n",
    "    return hyp_df"
   ]
  },
  {
   "cell_type": "code",
   "execution_count": 136,
   "metadata": {
    "collapsed": false,
    "deletable": true,
    "editable": true
   },
   "outputs": [
    {
     "name": "stdout",
     "output_type": "stream",
     "text": [
      "The highest cross validation score from Bayesian was 0.89217 found on iteration 4.\n",
      "ROC AUC from Bayesian on test data = 0.89041.\n"
     ]
    },
    {
     "data": {
      "text/html": [
       "<div>\n",
       "<style scoped>\n",
       "    .dataframe tbody tr th:only-of-type {\n",
       "        vertical-align: middle;\n",
       "    }\n",
       "\n",
       "    .dataframe tbody tr th {\n",
       "        vertical-align: top;\n",
       "    }\n",
       "\n",
       "    .dataframe thead th {\n",
       "        text-align: right;\n",
       "    }\n",
       "</style>\n",
       "<table border=\"1\" class=\"dataframe\">\n",
       "  <thead>\n",
       "    <tr style=\"text-align: right;\">\n",
       "      <th></th>\n",
       "      <th>boosting_type</th>\n",
       "      <th>colsample_bytree</th>\n",
       "      <th>is_unbalance</th>\n",
       "      <th>learning_rate</th>\n",
       "      <th>min_child_samples</th>\n",
       "      <th>num_leaves</th>\n",
       "      <th>reg_alpha</th>\n",
       "      <th>reg_lambda</th>\n",
       "      <th>subsample_for_bin</th>\n",
       "      <th>subsample</th>\n",
       "      <th>metric</th>\n",
       "      <th>verbose</th>\n",
       "      <th>n_estimators</th>\n",
       "      <th>iteration</th>\n",
       "      <th>score</th>\n",
       "    </tr>\n",
       "  </thead>\n",
       "  <tbody>\n",
       "    <tr>\n",
       "      <th>0</th>\n",
       "      <td>dart</td>\n",
       "      <td>0.991305</td>\n",
       "      <td>False</td>\n",
       "      <td>0.037570</td>\n",
       "      <td>350</td>\n",
       "      <td>67</td>\n",
       "      <td>0.507306</td>\n",
       "      <td>0.333801</td>\n",
       "      <td>260000</td>\n",
       "      <td>0.809082</td>\n",
       "      <td>auc</td>\n",
       "      <td>1</td>\n",
       "      <td>618</td>\n",
       "      <td>4</td>\n",
       "      <td>0.892166</td>\n",
       "    </tr>\n",
       "    <tr>\n",
       "      <th>1</th>\n",
       "      <td>dart</td>\n",
       "      <td>0.751996</td>\n",
       "      <td>True</td>\n",
       "      <td>0.068830</td>\n",
       "      <td>415</td>\n",
       "      <td>51</td>\n",
       "      <td>0.990971</td>\n",
       "      <td>0.414021</td>\n",
       "      <td>120000</td>\n",
       "      <td>0.684527</td>\n",
       "      <td>auc</td>\n",
       "      <td>1</td>\n",
       "      <td>413</td>\n",
       "      <td>5</td>\n",
       "      <td>0.891511</td>\n",
       "    </tr>\n",
       "    <tr>\n",
       "      <th>2</th>\n",
       "      <td>dart</td>\n",
       "      <td>0.658184</td>\n",
       "      <td>False</td>\n",
       "      <td>0.022836</td>\n",
       "      <td>110</td>\n",
       "      <td>49</td>\n",
       "      <td>0.534057</td>\n",
       "      <td>0.702573</td>\n",
       "      <td>180000</td>\n",
       "      <td>0.985067</td>\n",
       "      <td>auc</td>\n",
       "      <td>1</td>\n",
       "      <td>441</td>\n",
       "      <td>8</td>\n",
       "      <td>0.891016</td>\n",
       "    </tr>\n",
       "    <tr>\n",
       "      <th>3</th>\n",
       "      <td>gbdt</td>\n",
       "      <td>0.818157</td>\n",
       "      <td>False</td>\n",
       "      <td>0.108565</td>\n",
       "      <td>455</td>\n",
       "      <td>47</td>\n",
       "      <td>0.347243</td>\n",
       "      <td>0.171773</td>\n",
       "      <td>220000</td>\n",
       "      <td>0.582428</td>\n",
       "      <td>auc</td>\n",
       "      <td>1</td>\n",
       "      <td>89</td>\n",
       "      <td>1</td>\n",
       "      <td>0.890348</td>\n",
       "    </tr>\n",
       "    <tr>\n",
       "      <th>4</th>\n",
       "      <td>gbdt</td>\n",
       "      <td>0.843663</td>\n",
       "      <td>True</td>\n",
       "      <td>0.055458</td>\n",
       "      <td>145</td>\n",
       "      <td>137</td>\n",
       "      <td>0.230731</td>\n",
       "      <td>0.511729</td>\n",
       "      <td>100000</td>\n",
       "      <td>0.718266</td>\n",
       "      <td>auc</td>\n",
       "      <td>1</td>\n",
       "      <td>52</td>\n",
       "      <td>6</td>\n",
       "      <td>0.889579</td>\n",
       "    </tr>\n",
       "    <tr>\n",
       "      <th>5</th>\n",
       "      <td>dart</td>\n",
       "      <td>0.625506</td>\n",
       "      <td>True</td>\n",
       "      <td>0.057830</td>\n",
       "      <td>20</td>\n",
       "      <td>61</td>\n",
       "      <td>0.205188</td>\n",
       "      <td>0.532582</td>\n",
       "      <td>200000</td>\n",
       "      <td>0.821439</td>\n",
       "      <td>auc</td>\n",
       "      <td>1</td>\n",
       "      <td>167</td>\n",
       "      <td>2</td>\n",
       "      <td>0.888192</td>\n",
       "    </tr>\n",
       "    <tr>\n",
       "      <th>6</th>\n",
       "      <td>goss</td>\n",
       "      <td>0.722398</td>\n",
       "      <td>True</td>\n",
       "      <td>0.150741</td>\n",
       "      <td>95</td>\n",
       "      <td>85</td>\n",
       "      <td>0.665232</td>\n",
       "      <td>0.560429</td>\n",
       "      <td>40000</td>\n",
       "      <td>1.000000</td>\n",
       "      <td>auc</td>\n",
       "      <td>1</td>\n",
       "      <td>6</td>\n",
       "      <td>10</td>\n",
       "      <td>0.885587</td>\n",
       "    </tr>\n",
       "    <tr>\n",
       "      <th>7</th>\n",
       "      <td>goss</td>\n",
       "      <td>0.993068</td>\n",
       "      <td>True</td>\n",
       "      <td>0.162786</td>\n",
       "      <td>280</td>\n",
       "      <td>35</td>\n",
       "      <td>0.471720</td>\n",
       "      <td>0.023881</td>\n",
       "      <td>280000</td>\n",
       "      <td>1.000000</td>\n",
       "      <td>auc</td>\n",
       "      <td>1</td>\n",
       "      <td>6</td>\n",
       "      <td>9</td>\n",
       "      <td>0.879790</td>\n",
       "    </tr>\n",
       "    <tr>\n",
       "      <th>8</th>\n",
       "      <td>goss</td>\n",
       "      <td>0.809665</td>\n",
       "      <td>False</td>\n",
       "      <td>0.085799</td>\n",
       "      <td>460</td>\n",
       "      <td>54</td>\n",
       "      <td>0.285526</td>\n",
       "      <td>0.593218</td>\n",
       "      <td>40000</td>\n",
       "      <td>1.000000</td>\n",
       "      <td>auc</td>\n",
       "      <td>1</td>\n",
       "      <td>11</td>\n",
       "      <td>3</td>\n",
       "      <td>0.875136</td>\n",
       "    </tr>\n",
       "    <tr>\n",
       "      <th>9</th>\n",
       "      <td>goss</td>\n",
       "      <td>0.659665</td>\n",
       "      <td>True</td>\n",
       "      <td>0.344239</td>\n",
       "      <td>455</td>\n",
       "      <td>126</td>\n",
       "      <td>0.286126</td>\n",
       "      <td>0.054387</td>\n",
       "      <td>200000</td>\n",
       "      <td>1.000000</td>\n",
       "      <td>auc</td>\n",
       "      <td>1</td>\n",
       "      <td>2</td>\n",
       "      <td>7</td>\n",
       "      <td>0.869787</td>\n",
       "    </tr>\n",
       "  </tbody>\n",
       "</table>\n",
       "</div>"
      ],
      "text/plain": [
       "  boosting_type  colsample_bytree is_unbalance  learning_rate  \\\n",
       "0          dart          0.991305        False       0.037570   \n",
       "1          dart          0.751996         True       0.068830   \n",
       "2          dart          0.658184        False       0.022836   \n",
       "3          gbdt          0.818157        False       0.108565   \n",
       "4          gbdt          0.843663         True       0.055458   \n",
       "5          dart          0.625506         True       0.057830   \n",
       "6          goss          0.722398         True       0.150741   \n",
       "7          goss          0.993068         True       0.162786   \n",
       "8          goss          0.809665        False       0.085799   \n",
       "9          goss          0.659665         True       0.344239   \n",
       "\n",
       "  min_child_samples num_leaves  reg_alpha  reg_lambda subsample_for_bin  \\\n",
       "0               350         67   0.507306    0.333801            260000   \n",
       "1               415         51   0.990971    0.414021            120000   \n",
       "2               110         49   0.534057    0.702573            180000   \n",
       "3               455         47   0.347243    0.171773            220000   \n",
       "4               145        137   0.230731    0.511729            100000   \n",
       "5                20         61   0.205188    0.532582            200000   \n",
       "6                95         85   0.665232    0.560429             40000   \n",
       "7               280         35   0.471720    0.023881            280000   \n",
       "8               460         54   0.285526    0.593218             40000   \n",
       "9               455        126   0.286126    0.054387            200000   \n",
       "\n",
       "   subsample metric verbose n_estimators  iteration     score  \n",
       "0   0.809082    auc       1          618          4  0.892166  \n",
       "1   0.684527    auc       1          413          5  0.891511  \n",
       "2   0.985067    auc       1          441          8  0.891016  \n",
       "3   0.582428    auc       1           89          1  0.890348  \n",
       "4   0.718266    auc       1           52          6  0.889579  \n",
       "5   0.821439    auc       1          167          2  0.888192  \n",
       "6   1.000000    auc       1            6         10  0.885587  \n",
       "7   1.000000    auc       1            6          9  0.879790  \n",
       "8   1.000000    auc       1           11          3  0.875136  \n",
       "9   1.000000    auc       1            2          7  0.869787  "
      ]
     },
     "execution_count": 136,
     "metadata": {},
     "output_type": "execute_result"
    }
   ],
   "source": [
    "bayes_results = evaluate(results, name = 'Bayesian')\n",
    "bayes_results"
   ]
  },
  {
   "cell_type": "code",
   "execution_count": null,
   "metadata": {
    "collapsed": false,
    "deletable": true,
    "editable": true
   },
   "outputs": [],
   "source": [
    " MAX_EVALS = 5\n",
    "\n",
    "# # Create a new file and open a connection\n",
    "OUT_FILE = 'bayesian_trials_500.csv'\n",
    "of_connection = open(OUT_FILE, 'w')\n",
    "writer = csv.writer(of_connection)\n",
    "\n",
    "# # Write column names\n",
    "headers = ['loss', 'hyperparameters', 'iteration', 'runtime', 'score']\n",
    "writer.writerow(headers)\n",
    "of_connection.close()\n",
    "\n",
    "# # Record results\n",
    "trials = Trials()\n",
    "\n",
    "global ITERATION\n",
    "\n",
    "ITERATION = 0 \n",
    "\n",
    "best = fmin(fn = objective, space = space, algo = tpe.suggest,\n",
    "             trials = trials, max_evals = MAX_EVALS)\n",
    "\n",
    "# # Sort the trials with lowest loss (highest AUC) first\n",
    "trials_dict = sorted(trials.results, key = lambda x: x['loss'])\n",
    "\n",
    "print('Finished, best results')\n",
    "print(trials_dict[:1])\n",
    "\n",
    "# # Save the trial results\n",
    "with open('trials500.json', 'w') as f:\n",
    "    f.write(json.dumps(trials_dict))"
   ]
  },
  {
   "cell_type": "code",
   "execution_count": 139,
   "metadata": {
    "collapsed": true,
    "deletable": true,
    "editable": true
   },
   "outputs": [],
   "source": [
    "import json\n",
    "\n",
    "# Save the trial results\n",
    "with open('trials500.json', 'w') as f:\n",
    "    f.write(json.dumps(trials_dict))"
   ]
  },
  {
   "cell_type": "code",
   "execution_count": 140,
   "metadata": {
    "collapsed": false,
    "deletable": true,
    "editable": true
   },
   "outputs": [
    {
     "name": "stdout",
     "output_type": "stream",
     "text": [
      "Training shape:  (11900, 60)\n",
      "Testing shape:  (5100, 60)\n"
     ]
    }
   ],
   "source": [
    "# Read in full dataset\n",
    "train = pd.read_csv('train_good.csv')\n",
    "test = pd.read_csv('test_good.csv')\n",
    "train = train.drop(columns = ['AssessmentPeriod'])\n",
    "test = test.drop(columns = ['AssessmentPeriod'])\n",
    "# Extract the test ids and train labels\n",
    "test_ids = test['ID_CPTE']\n",
    "train_labels = np.array(train['Default'].astype(np.int32)).reshape((-1, ))\n",
    "\n",
    "train = train.drop(columns = ['ID_CPTE', 'Default'])\n",
    "test = test.drop(columns = ['ID_CPTE'])\n",
    "\n",
    "print('Training shape: ', train.shape)\n",
    "print('Testing shape: ', test.shape)"
   ]
  },
  {
   "cell_type": "code",
   "execution_count": 141,
   "metadata": {
    "collapsed": true,
    "deletable": true,
    "editable": true
   },
   "outputs": [],
   "source": [
    "bayes_results = pd.read_csv('bayesian_trials_500.csv').sort_values('score', ascending = False).reset_index()"
   ]
  },
  {
   "cell_type": "code",
   "execution_count": 142,
   "metadata": {
    "collapsed": false,
    "deletable": true,
    "editable": true
   },
   "outputs": [
    {
     "name": "stdout",
     "output_type": "stream",
     "text": [
      "The highest cross validation score from Bayesian was 0.89275 found on iteration 96.\n"
     ]
    },
    {
     "ename": "LightGBMError",
     "evalue": "b'len of label is not same with #data'",
     "output_type": "error",
     "traceback": [
      "\u001b[1;31m---------------------------------------------------------------------------\u001b[0m",
      "\u001b[1;31mLightGBMError\u001b[0m                             Traceback (most recent call last)",
      "\u001b[1;32m<ipython-input-142-15ddfb46b119>\u001b[0m in \u001b[0;36m<module>\u001b[1;34m()\u001b[0m\n\u001b[1;32m----> 1\u001b[1;33m \u001b[0mbayes_params\u001b[0m \u001b[1;33m=\u001b[0m \u001b[0mevaluate\u001b[0m\u001b[1;33m(\u001b[0m\u001b[0mbayes_results\u001b[0m\u001b[1;33m,\u001b[0m \u001b[0mname\u001b[0m \u001b[1;33m=\u001b[0m \u001b[1;34m'Bayesian'\u001b[0m\u001b[1;33m)\u001b[0m\u001b[1;33m\u001b[0m\u001b[0m\n\u001b[0m",
      "\u001b[1;32m<ipython-input-135-72681e27024a>\u001b[0m in \u001b[0;36mevaluate\u001b[1;34m(results, name)\u001b[0m\n\u001b[0;32m     20\u001b[0m \u001b[1;33m\u001b[0m\u001b[0m\n\u001b[0;32m     21\u001b[0m     \u001b[1;31m# Train and make predictions\u001b[0m\u001b[1;33m\u001b[0m\u001b[1;33m\u001b[0m\u001b[0m\n\u001b[1;32m---> 22\u001b[1;33m     \u001b[0mmodel\u001b[0m\u001b[1;33m.\u001b[0m\u001b[0mfit\u001b[0m\u001b[1;33m(\u001b[0m\u001b[0mtrain_features\u001b[0m\u001b[1;33m,\u001b[0m \u001b[0mtrain_labels\u001b[0m\u001b[1;33m)\u001b[0m\u001b[1;33m\u001b[0m\u001b[0m\n\u001b[0m\u001b[0;32m     23\u001b[0m     \u001b[0mpreds\u001b[0m \u001b[1;33m=\u001b[0m \u001b[0mmodel\u001b[0m\u001b[1;33m.\u001b[0m\u001b[0mpredict_proba\u001b[0m\u001b[1;33m(\u001b[0m\u001b[0mtest_features\u001b[0m\u001b[1;33m)\u001b[0m\u001b[1;33m[\u001b[0m\u001b[1;33m:\u001b[0m\u001b[1;33m,\u001b[0m \u001b[1;36m1\u001b[0m\u001b[1;33m]\u001b[0m\u001b[1;33m\u001b[0m\u001b[0m\n\u001b[0;32m     24\u001b[0m \u001b[1;33m\u001b[0m\u001b[0m\n",
      "\u001b[1;32m~\\Anaconda3\\lib\\site-packages\\lightgbm\\sklearn.py\u001b[0m in \u001b[0;36mfit\u001b[1;34m(self, X, y, sample_weight, init_score, eval_set, eval_names, eval_sample_weight, eval_class_weight, eval_init_score, eval_metric, early_stopping_rounds, verbose, feature_name, categorical_feature, callbacks)\u001b[0m\n\u001b[0;32m    673\u001b[0m                                         \u001b[0mverbose\u001b[0m\u001b[1;33m=\u001b[0m\u001b[0mverbose\u001b[0m\u001b[1;33m,\u001b[0m \u001b[0mfeature_name\u001b[0m\u001b[1;33m=\u001b[0m\u001b[0mfeature_name\u001b[0m\u001b[1;33m,\u001b[0m\u001b[1;33m\u001b[0m\u001b[0m\n\u001b[0;32m    674\u001b[0m                                         \u001b[0mcategorical_feature\u001b[0m\u001b[1;33m=\u001b[0m\u001b[0mcategorical_feature\u001b[0m\u001b[1;33m,\u001b[0m\u001b[1;33m\u001b[0m\u001b[0m\n\u001b[1;32m--> 675\u001b[1;33m                                         callbacks=callbacks)\n\u001b[0m\u001b[0;32m    676\u001b[0m         \u001b[1;32mreturn\u001b[0m \u001b[0mself\u001b[0m\u001b[1;33m\u001b[0m\u001b[0m\n\u001b[0;32m    677\u001b[0m \u001b[1;33m\u001b[0m\u001b[0m\n",
      "\u001b[1;32m~\\Anaconda3\\lib\\site-packages\\lightgbm\\sklearn.py\u001b[0m in \u001b[0;36mfit\u001b[1;34m(self, X, y, sample_weight, init_score, group, eval_set, eval_names, eval_sample_weight, eval_class_weight, eval_init_score, eval_group, eval_metric, early_stopping_rounds, verbose, feature_name, categorical_feature, callbacks)\u001b[0m\n\u001b[0;32m    467\u001b[0m                               \u001b[0mverbose_eval\u001b[0m\u001b[1;33m=\u001b[0m\u001b[0mverbose\u001b[0m\u001b[1;33m,\u001b[0m \u001b[0mfeature_name\u001b[0m\u001b[1;33m=\u001b[0m\u001b[0mfeature_name\u001b[0m\u001b[1;33m,\u001b[0m\u001b[1;33m\u001b[0m\u001b[0m\n\u001b[0;32m    468\u001b[0m                               \u001b[0mcategorical_feature\u001b[0m\u001b[1;33m=\u001b[0m\u001b[0mcategorical_feature\u001b[0m\u001b[1;33m,\u001b[0m\u001b[1;33m\u001b[0m\u001b[0m\n\u001b[1;32m--> 469\u001b[1;33m                               callbacks=callbacks)\n\u001b[0m\u001b[0;32m    470\u001b[0m \u001b[1;33m\u001b[0m\u001b[0m\n\u001b[0;32m    471\u001b[0m         \u001b[1;32mif\u001b[0m \u001b[0mevals_result\u001b[0m\u001b[1;33m:\u001b[0m\u001b[1;33m\u001b[0m\u001b[0m\n",
      "\u001b[1;32m~\\Anaconda3\\lib\\site-packages\\lightgbm\\engine.py\u001b[0m in \u001b[0;36mtrain\u001b[1;34m(params, train_set, num_boost_round, valid_sets, valid_names, fobj, feval, init_model, feature_name, categorical_feature, early_stopping_rounds, evals_result, verbose_eval, learning_rates, keep_training_booster, callbacks)\u001b[0m\n\u001b[0;32m    178\u001b[0m     \u001b[1;31m# construct booster\u001b[0m\u001b[1;33m\u001b[0m\u001b[1;33m\u001b[0m\u001b[0m\n\u001b[0;32m    179\u001b[0m     \u001b[1;32mtry\u001b[0m\u001b[1;33m:\u001b[0m\u001b[1;33m\u001b[0m\u001b[0m\n\u001b[1;32m--> 180\u001b[1;33m         \u001b[0mbooster\u001b[0m \u001b[1;33m=\u001b[0m \u001b[0mBooster\u001b[0m\u001b[1;33m(\u001b[0m\u001b[0mparams\u001b[0m\u001b[1;33m=\u001b[0m\u001b[0mparams\u001b[0m\u001b[1;33m,\u001b[0m \u001b[0mtrain_set\u001b[0m\u001b[1;33m=\u001b[0m\u001b[0mtrain_set\u001b[0m\u001b[1;33m)\u001b[0m\u001b[1;33m\u001b[0m\u001b[0m\n\u001b[0m\u001b[0;32m    181\u001b[0m         \u001b[1;32mif\u001b[0m \u001b[0mis_valid_contain_train\u001b[0m\u001b[1;33m:\u001b[0m\u001b[1;33m\u001b[0m\u001b[0m\n\u001b[0;32m    182\u001b[0m             \u001b[0mbooster\u001b[0m\u001b[1;33m.\u001b[0m\u001b[0mset_train_data_name\u001b[0m\u001b[1;33m(\u001b[0m\u001b[0mtrain_data_name\u001b[0m\u001b[1;33m)\u001b[0m\u001b[1;33m\u001b[0m\u001b[0m\n",
      "\u001b[1;32m~\\Anaconda3\\lib\\site-packages\\lightgbm\\basic.py\u001b[0m in \u001b[0;36m__init__\u001b[1;34m(self, params, train_set, model_file, silent)\u001b[0m\n\u001b[0;32m   1301\u001b[0m             \u001b[0mself\u001b[0m\u001b[1;33m.\u001b[0m\u001b[0mhandle\u001b[0m \u001b[1;33m=\u001b[0m \u001b[0mctypes\u001b[0m\u001b[1;33m.\u001b[0m\u001b[0mc_void_p\u001b[0m\u001b[1;33m(\u001b[0m\u001b[1;33m)\u001b[0m\u001b[1;33m\u001b[0m\u001b[0m\n\u001b[0;32m   1302\u001b[0m             _safe_call(_LIB.LGBM_BoosterCreate(\n\u001b[1;32m-> 1303\u001b[1;33m                 \u001b[0mtrain_set\u001b[0m\u001b[1;33m.\u001b[0m\u001b[0mconstruct\u001b[0m\u001b[1;33m(\u001b[0m\u001b[1;33m)\u001b[0m\u001b[1;33m.\u001b[0m\u001b[0mhandle\u001b[0m\u001b[1;33m,\u001b[0m\u001b[1;33m\u001b[0m\u001b[0m\n\u001b[0m\u001b[0;32m   1304\u001b[0m                 \u001b[0mc_str\u001b[0m\u001b[1;33m(\u001b[0m\u001b[0mparams_str\u001b[0m\u001b[1;33m)\u001b[0m\u001b[1;33m,\u001b[0m\u001b[1;33m\u001b[0m\u001b[0m\n\u001b[0;32m   1305\u001b[0m                 ctypes.byref(self.handle)))\n",
      "\u001b[1;32m~\\Anaconda3\\lib\\site-packages\\lightgbm\\basic.py\u001b[0m in \u001b[0;36mconstruct\u001b[1;34m(self)\u001b[0m\n\u001b[0;32m    854\u001b[0m                                 \u001b[0mweight\u001b[0m\u001b[1;33m=\u001b[0m\u001b[0mself\u001b[0m\u001b[1;33m.\u001b[0m\u001b[0mweight\u001b[0m\u001b[1;33m,\u001b[0m \u001b[0mgroup\u001b[0m\u001b[1;33m=\u001b[0m\u001b[0mself\u001b[0m\u001b[1;33m.\u001b[0m\u001b[0mgroup\u001b[0m\u001b[1;33m,\u001b[0m \u001b[0minit_score\u001b[0m\u001b[1;33m=\u001b[0m\u001b[0mself\u001b[0m\u001b[1;33m.\u001b[0m\u001b[0minit_score\u001b[0m\u001b[1;33m,\u001b[0m\u001b[1;33m\u001b[0m\u001b[0m\n\u001b[0;32m    855\u001b[0m                                 \u001b[0mpredictor\u001b[0m\u001b[1;33m=\u001b[0m\u001b[0mself\u001b[0m\u001b[1;33m.\u001b[0m\u001b[0m_predictor\u001b[0m\u001b[1;33m,\u001b[0m \u001b[0msilent\u001b[0m\u001b[1;33m=\u001b[0m\u001b[0mself\u001b[0m\u001b[1;33m.\u001b[0m\u001b[0msilent\u001b[0m\u001b[1;33m,\u001b[0m \u001b[0mfeature_name\u001b[0m\u001b[1;33m=\u001b[0m\u001b[0mself\u001b[0m\u001b[1;33m.\u001b[0m\u001b[0mfeature_name\u001b[0m\u001b[1;33m,\u001b[0m\u001b[1;33m\u001b[0m\u001b[0m\n\u001b[1;32m--> 856\u001b[1;33m                                 categorical_feature=self.categorical_feature, params=self.params)\n\u001b[0m\u001b[0;32m    857\u001b[0m             \u001b[1;32mif\u001b[0m \u001b[0mself\u001b[0m\u001b[1;33m.\u001b[0m\u001b[0mfree_raw_data\u001b[0m\u001b[1;33m:\u001b[0m\u001b[1;33m\u001b[0m\u001b[0m\n\u001b[0;32m    858\u001b[0m                 \u001b[0mself\u001b[0m\u001b[1;33m.\u001b[0m\u001b[0mdata\u001b[0m \u001b[1;33m=\u001b[0m \u001b[1;32mNone\u001b[0m\u001b[1;33m\u001b[0m\u001b[0m\n",
      "\u001b[1;32m~\\Anaconda3\\lib\\site-packages\\lightgbm\\basic.py\u001b[0m in \u001b[0;36m_lazy_init\u001b[1;34m(self, data, label, reference, weight, group, init_score, predictor, silent, feature_name, categorical_feature, params)\u001b[0m\n\u001b[0;32m    716\u001b[0m                 \u001b[1;32mraise\u001b[0m \u001b[0mTypeError\u001b[0m\u001b[1;33m(\u001b[0m\u001b[1;34m'Cannot initialize Dataset from {}'\u001b[0m\u001b[1;33m.\u001b[0m\u001b[0mformat\u001b[0m\u001b[1;33m(\u001b[0m\u001b[0mtype\u001b[0m\u001b[1;33m(\u001b[0m\u001b[0mdata\u001b[0m\u001b[1;33m)\u001b[0m\u001b[1;33m.\u001b[0m\u001b[0m__name__\u001b[0m\u001b[1;33m)\u001b[0m\u001b[1;33m)\u001b[0m\u001b[1;33m\u001b[0m\u001b[0m\n\u001b[0;32m    717\u001b[0m         \u001b[1;32mif\u001b[0m \u001b[0mlabel\u001b[0m \u001b[1;32mis\u001b[0m \u001b[1;32mnot\u001b[0m \u001b[1;32mNone\u001b[0m\u001b[1;33m:\u001b[0m\u001b[1;33m\u001b[0m\u001b[0m\n\u001b[1;32m--> 718\u001b[1;33m             \u001b[0mself\u001b[0m\u001b[1;33m.\u001b[0m\u001b[0mset_label\u001b[0m\u001b[1;33m(\u001b[0m\u001b[0mlabel\u001b[0m\u001b[1;33m)\u001b[0m\u001b[1;33m\u001b[0m\u001b[0m\n\u001b[0m\u001b[0;32m    719\u001b[0m         \u001b[1;32mif\u001b[0m \u001b[0mself\u001b[0m\u001b[1;33m.\u001b[0m\u001b[0mget_label\u001b[0m\u001b[1;33m(\u001b[0m\u001b[1;33m)\u001b[0m \u001b[1;32mis\u001b[0m \u001b[1;32mNone\u001b[0m\u001b[1;33m:\u001b[0m\u001b[1;33m\u001b[0m\u001b[0m\n\u001b[0;32m    720\u001b[0m             \u001b[1;32mraise\u001b[0m \u001b[0mValueError\u001b[0m\u001b[1;33m(\u001b[0m\u001b[1;34m\"Label should not be None\"\u001b[0m\u001b[1;33m)\u001b[0m\u001b[1;33m\u001b[0m\u001b[0m\n",
      "\u001b[1;32m~\\Anaconda3\\lib\\site-packages\\lightgbm\\basic.py\u001b[0m in \u001b[0;36mset_label\u001b[1;34m(self, label)\u001b[0m\n\u001b[0;32m   1105\u001b[0m         \u001b[1;32mif\u001b[0m \u001b[0mself\u001b[0m\u001b[1;33m.\u001b[0m\u001b[0mhandle\u001b[0m \u001b[1;32mis\u001b[0m \u001b[1;32mnot\u001b[0m \u001b[1;32mNone\u001b[0m\u001b[1;33m:\u001b[0m\u001b[1;33m\u001b[0m\u001b[0m\n\u001b[0;32m   1106\u001b[0m             \u001b[0mlabel\u001b[0m \u001b[1;33m=\u001b[0m \u001b[0mlist_to_1d_numpy\u001b[0m\u001b[1;33m(\u001b[0m\u001b[0mlabel\u001b[0m\u001b[1;33m,\u001b[0m \u001b[0mname\u001b[0m\u001b[1;33m=\u001b[0m\u001b[1;34m'label'\u001b[0m\u001b[1;33m)\u001b[0m\u001b[1;33m\u001b[0m\u001b[0m\n\u001b[1;32m-> 1107\u001b[1;33m             \u001b[0mself\u001b[0m\u001b[1;33m.\u001b[0m\u001b[0mset_field\u001b[0m\u001b[1;33m(\u001b[0m\u001b[1;34m'label'\u001b[0m\u001b[1;33m,\u001b[0m \u001b[0mlabel\u001b[0m\u001b[1;33m)\u001b[0m\u001b[1;33m\u001b[0m\u001b[0m\n\u001b[0m\u001b[0;32m   1108\u001b[0m \u001b[1;33m\u001b[0m\u001b[0m\n\u001b[0;32m   1109\u001b[0m     \u001b[1;32mdef\u001b[0m \u001b[0mset_weight\u001b[0m\u001b[1;33m(\u001b[0m\u001b[0mself\u001b[0m\u001b[1;33m,\u001b[0m \u001b[0mweight\u001b[0m\u001b[1;33m)\u001b[0m\u001b[1;33m:\u001b[0m\u001b[1;33m\u001b[0m\u001b[0m\n",
      "\u001b[1;32m~\\Anaconda3\\lib\\site-packages\\lightgbm\\basic.py\u001b[0m in \u001b[0;36mset_field\u001b[1;34m(self, field_name, data)\u001b[0m\n\u001b[0;32m    980\u001b[0m             \u001b[0mptr_data\u001b[0m\u001b[1;33m,\u001b[0m\u001b[1;33m\u001b[0m\u001b[0m\n\u001b[0;32m    981\u001b[0m             \u001b[0mctypes\u001b[0m\u001b[1;33m.\u001b[0m\u001b[0mc_int\u001b[0m\u001b[1;33m(\u001b[0m\u001b[0mlen\u001b[0m\u001b[1;33m(\u001b[0m\u001b[0mdata\u001b[0m\u001b[1;33m)\u001b[0m\u001b[1;33m)\u001b[0m\u001b[1;33m,\u001b[0m\u001b[1;33m\u001b[0m\u001b[0m\n\u001b[1;32m--> 982\u001b[1;33m             ctypes.c_int(type_data)))\n\u001b[0m\u001b[0;32m    983\u001b[0m \u001b[1;33m\u001b[0m\u001b[0m\n\u001b[0;32m    984\u001b[0m     \u001b[1;32mdef\u001b[0m \u001b[0mget_field\u001b[0m\u001b[1;33m(\u001b[0m\u001b[0mself\u001b[0m\u001b[1;33m,\u001b[0m \u001b[0mfield_name\u001b[0m\u001b[1;33m)\u001b[0m\u001b[1;33m:\u001b[0m\u001b[1;33m\u001b[0m\u001b[0m\n",
      "\u001b[1;32m~\\Anaconda3\\lib\\site-packages\\lightgbm\\basic.py\u001b[0m in \u001b[0;36m_safe_call\u001b[1;34m(ret)\u001b[0m\n\u001b[0;32m     46\u001b[0m     \"\"\"\n\u001b[0;32m     47\u001b[0m     \u001b[1;32mif\u001b[0m \u001b[0mret\u001b[0m \u001b[1;33m!=\u001b[0m \u001b[1;36m0\u001b[0m\u001b[1;33m:\u001b[0m\u001b[1;33m\u001b[0m\u001b[0m\n\u001b[1;32m---> 48\u001b[1;33m         \u001b[1;32mraise\u001b[0m \u001b[0mLightGBMError\u001b[0m\u001b[1;33m(\u001b[0m\u001b[0m_LIB\u001b[0m\u001b[1;33m.\u001b[0m\u001b[0mLGBM_GetLastError\u001b[0m\u001b[1;33m(\u001b[0m\u001b[1;33m)\u001b[0m\u001b[1;33m)\u001b[0m\u001b[1;33m\u001b[0m\u001b[0m\n\u001b[0m\u001b[0;32m     49\u001b[0m \u001b[1;33m\u001b[0m\u001b[0m\n\u001b[0;32m     50\u001b[0m \u001b[1;33m\u001b[0m\u001b[0m\n",
      "\u001b[1;31mLightGBMError\u001b[0m: b'len of label is not same with #data'"
     ]
    }
   ],
   "source": [
    "bayes_params = evaluate(bayes_results, name = 'Bayesian')"
   ]
  },
  {
   "cell_type": "code",
   "execution_count": 143,
   "metadata": {
    "collapsed": false,
    "deletable": true,
    "editable": true
   },
   "outputs": [
    {
     "ename": "NameError",
     "evalue": "name 'scores' is not defined",
     "output_type": "error",
     "traceback": [
      "\u001b[1;31m---------------------------------------------------------------------------\u001b[0m",
      "\u001b[1;31mNameError\u001b[0m                                 Traceback (most recent call last)",
      "\u001b[1;32m<ipython-input-143-6e60f66ef897>\u001b[0m in \u001b[0;36m<module>\u001b[1;34m()\u001b[0m\n\u001b[1;32m----> 1\u001b[1;33m \u001b[0mscores\u001b[0m \u001b[1;33m=\u001b[0m \u001b[0mscores\u001b[0m\u001b[1;33m.\u001b[0m\u001b[0mappend\u001b[0m\u001b[1;33m(\u001b[0m\u001b[0mpd\u001b[0m\u001b[1;33m.\u001b[0m\u001b[0mDataFrame\u001b[0m\u001b[1;33m(\u001b[0m\u001b[1;33m{\u001b[0m\u001b[1;34m'ROC AUC'\u001b[0m\u001b[1;33m:\u001b[0m \u001b[0mbayes_params\u001b[0m\u001b[1;33m[\u001b[0m\u001b[1;34m'score'\u001b[0m\u001b[1;33m]\u001b[0m\u001b[1;33m,\u001b[0m \u001b[1;34m'iteration'\u001b[0m\u001b[1;33m:\u001b[0m \u001b[0mbayes_params\u001b[0m\u001b[1;33m[\u001b[0m\u001b[1;34m'iteration'\u001b[0m\u001b[1;33m]\u001b[0m\u001b[1;33m,\u001b[0m \u001b[1;34m'search'\u001b[0m\u001b[1;33m:\u001b[0m \u001b[1;34m'Bayesian'\u001b[0m\u001b[1;33m}\u001b[0m\u001b[1;33m)\u001b[0m\u001b[1;33m)\u001b[0m\u001b[1;33m\u001b[0m\u001b[0m\n\u001b[0m",
      "\u001b[1;31mNameError\u001b[0m: name 'scores' is not defined"
     ]
    }
   ],
   "source": [
    "scores = scores.append(pd.DataFrame({'ROC AUC': bayes_params['score'], 'iteration': bayes_params['iteration'], 'search': 'Bayesian'}))"
   ]
  },
  {
   "cell_type": "code",
   "execution_count": 144,
   "metadata": {
    "collapsed": false,
    "deletable": true,
    "editable": true
   },
   "outputs": [],
   "source": [
    "bayes_results['hyperparameters'] = bayes_results['hyperparameters'].map(ast.literal_eval)"
   ]
  },
  {
   "cell_type": "code",
   "execution_count": 145,
   "metadata": {
    "collapsed": false,
    "deletable": true,
    "editable": true
   },
   "outputs": [
    {
     "name": "stdout",
     "output_type": "stream",
     "text": [
      "The cross validation score on the full dataset for Bayesian optimization = 0.89275 with std: 0.00842.\n",
      "Number of estimators = 507.\n"
     ]
    }
   ],
   "source": [
    "hyperparameters = dict(**bayes_results.loc[0, 'hyperparameters'])\n",
    "del hyperparameters['n_estimators']\n",
    "\n",
    "# Cross validation with n_folds and early stopping\n",
    "cv_results = lgb.cv(hyperparameters, train_set,\n",
    "                    num_boost_round = 10000, early_stopping_rounds = 100, \n",
    "                    metrics = 'auc', nfold = N_FOLDS)\n",
    "\n",
    "print('The cross validation score on the full dataset for Bayesian optimization = {:.5f} with std: {:.5f}.'.format(\n",
    "    cv_results['auc-mean'][-1], cv_results['auc-stdv'][-1]))\n",
    "print('Number of estimators = {}.'.format(len(cv_results['auc-mean'])))"
   ]
  },
  {
   "cell_type": "code",
   "execution_count": 146,
   "metadata": {
    "collapsed": false,
    "deletable": true,
    "editable": true
   },
   "outputs": [],
   "source": [
    "model = lgb.LGBMClassifier(n_estimators = len(cv_results['auc-mean']), **hyperparameters)\n",
    "model.fit(train, train_labels)\n",
    "\n",
    "preds = model.predict_proba(test)[:, 1]\n",
    "\n",
    "submission = pd.DataFrame({'ID_CPTE': test_ids, 'Default': preds})\n",
    "submission.to_csv('submission_bayesian_optimization.csv', index = False)"
   ]
  },
  {
   "cell_type": "code",
   "execution_count": 147,
   "metadata": {
    "collapsed": false,
    "deletable": true,
    "editable": true
   },
   "outputs": [
    {
     "ename": "AttributeError",
     "evalue": "'Dataset' object has no attribute 'num_row'",
     "output_type": "error",
     "traceback": [
      "\u001b[1;31m---------------------------------------------------------------------------\u001b[0m",
      "\u001b[1;31mAttributeError\u001b[0m                            Traceback (most recent call last)",
      "\u001b[1;32m<ipython-input-147-cf9ef4519d2f>\u001b[0m in \u001b[0;36m<module>\u001b[1;34m()\u001b[0m\n\u001b[0;32m      6\u001b[0m cv_results = xgb.cv(hyperparameters, train_set,\n\u001b[0;32m      7\u001b[0m                     \u001b[0mnum_boost_round\u001b[0m \u001b[1;33m=\u001b[0m \u001b[1;36m10000\u001b[0m\u001b[1;33m,\u001b[0m \u001b[0mearly_stopping_rounds\u001b[0m \u001b[1;33m=\u001b[0m \u001b[1;36m100\u001b[0m\u001b[1;33m,\u001b[0m\u001b[1;33m\u001b[0m\u001b[0m\n\u001b[1;32m----> 8\u001b[1;33m                     metrics = 'auc', nfold = N_FOLDS)\n\u001b[0m\u001b[0;32m      9\u001b[0m \u001b[1;33m\u001b[0m\u001b[0m\n\u001b[0;32m     10\u001b[0m print('The cross validation score on the full dataset for Bayesian optimization = {:.5f} with std: {:.5f}.'.format(\n",
      "\u001b[1;32m~\\Anaconda3\\lib\\site-packages\\xgboost\\training.py\u001b[0m in \u001b[0;36mcv\u001b[1;34m(params, dtrain, num_boost_round, nfold, stratified, folds, metrics, obj, feval, maximize, early_stopping_rounds, fpreproc, as_pandas, verbose_eval, show_stdv, seed, callbacks, shuffle)\u001b[0m\n\u001b[0;32m    374\u001b[0m     \u001b[0mresults\u001b[0m \u001b[1;33m=\u001b[0m \u001b[1;33m{\u001b[0m\u001b[1;33m}\u001b[0m\u001b[1;33m\u001b[0m\u001b[0m\n\u001b[0;32m    375\u001b[0m     cvfolds = mknfold(dtrain, nfold, params, seed, metrics, fpreproc,\n\u001b[1;32m--> 376\u001b[1;33m                       stratified, folds, shuffle)\n\u001b[0m\u001b[0;32m    377\u001b[0m \u001b[1;33m\u001b[0m\u001b[0m\n\u001b[0;32m    378\u001b[0m     \u001b[1;31m# setup callbacks\u001b[0m\u001b[1;33m\u001b[0m\u001b[1;33m\u001b[0m\u001b[0m\n",
      "\u001b[1;32m~\\Anaconda3\\lib\\site-packages\\xgboost\\training.py\u001b[0m in \u001b[0;36mmknfold\u001b[1;34m(dall, nfold, param, seed, evals, fpreproc, stratified, folds, shuffle)\u001b[0m\n\u001b[0;32m    233\u001b[0m     \u001b[1;32mif\u001b[0m \u001b[0mstratified\u001b[0m \u001b[1;32mis\u001b[0m \u001b[1;32mFalse\u001b[0m \u001b[1;32mand\u001b[0m \u001b[0mfolds\u001b[0m \u001b[1;32mis\u001b[0m \u001b[1;32mNone\u001b[0m\u001b[1;33m:\u001b[0m\u001b[1;33m\u001b[0m\u001b[0m\n\u001b[0;32m    234\u001b[0m         \u001b[1;32mif\u001b[0m \u001b[0mshuffle\u001b[0m \u001b[1;32mis\u001b[0m \u001b[1;32mTrue\u001b[0m\u001b[1;33m:\u001b[0m\u001b[1;33m\u001b[0m\u001b[0m\n\u001b[1;32m--> 235\u001b[1;33m             \u001b[0midx\u001b[0m \u001b[1;33m=\u001b[0m \u001b[0mnp\u001b[0m\u001b[1;33m.\u001b[0m\u001b[0mrandom\u001b[0m\u001b[1;33m.\u001b[0m\u001b[0mpermutation\u001b[0m\u001b[1;33m(\u001b[0m\u001b[0mdall\u001b[0m\u001b[1;33m.\u001b[0m\u001b[0mnum_row\u001b[0m\u001b[1;33m(\u001b[0m\u001b[1;33m)\u001b[0m\u001b[1;33m)\u001b[0m\u001b[1;33m\u001b[0m\u001b[0m\n\u001b[0m\u001b[0;32m    236\u001b[0m         \u001b[1;32melse\u001b[0m\u001b[1;33m:\u001b[0m\u001b[1;33m\u001b[0m\u001b[0m\n\u001b[0;32m    237\u001b[0m             \u001b[0midx\u001b[0m \u001b[1;33m=\u001b[0m \u001b[0mnp\u001b[0m\u001b[1;33m.\u001b[0m\u001b[0marange\u001b[0m\u001b[1;33m(\u001b[0m\u001b[0mdall\u001b[0m\u001b[1;33m.\u001b[0m\u001b[0mnum_row\u001b[0m\u001b[1;33m(\u001b[0m\u001b[1;33m)\u001b[0m\u001b[1;33m)\u001b[0m\u001b[1;33m\u001b[0m\u001b[0m\n",
      "\u001b[1;31mAttributeError\u001b[0m: 'Dataset' object has no attribute 'num_row'"
     ]
    }
   ],
   "source": [
    "import xgboost as xgb\n",
    "hyperparameters = dict(**bayes_results.loc[0, 'hyperparameters'])\n",
    "del hyperparameters['n_estimators']\n",
    "\n",
    "# Cross validation with n_folds and early stopping\n",
    "cv_results = xgb.cv(hyperparameters, train_set,\n",
    "                    num_boost_round = 10000, early_stopping_rounds = 100, \n",
    "                    metrics = 'auc', nfold = N_FOLDS)\n",
    "\n",
    "print('The cross validation score on the full dataset for Bayesian optimization = {:.5f} with std: {:.5f}.'.format(\n",
    "    cv_results['auc-mean'][-1], cv_results['auc-stdv'][-1]))\n",
    "print('Number of estimators = {}.'.format(len(cv_results['auc-mean'])))"
   ]
  },
  {
   "cell_type": "code",
   "execution_count": 148,
   "metadata": {
    "collapsed": false,
    "deletable": true,
    "editable": true
   },
   "outputs": [
    {
     "data": {
      "text/plain": [
       "XGBClassifier(base_score=0.5, booster='gbtree', boosting_type='dart',\n",
       "       colsample_bylevel=1, colsample_bytree=0.6251259427191308, gamma=0,\n",
       "       is_unbalance=False, learning_rate=0.03946831148853219,\n",
       "       max_delta_step=0, max_depth=3, metric='auc', min_child_samples=305,\n",
       "       min_child_weight=1, missing=None, n_estimators=507, n_jobs=1,\n",
       "       nthread=None, num_leaves=144, objective='binary:logistic',\n",
       "       random_state=0, reg_alpha=0.5358601896438846,\n",
       "       reg_lambda=0.4362156206217483, scale_pos_weight=1, seed=None,\n",
       "       silent=True, subsample=0.7593033982702072, subsample_for_bin=260000,\n",
       "       verbose=1)"
      ]
     },
     "execution_count": 148,
     "metadata": {},
     "output_type": "execute_result"
    }
   ],
   "source": [
    "model_xgb = xgb.XGBClassifier(n_estimators = len(cv_results['auc-mean']), **hyperparameters)\n",
    "model_xgb.fit(train, train_labels)"
   ]
  },
  {
   "cell_type": "code",
   "execution_count": 149,
   "metadata": {
    "collapsed": false,
    "deletable": true,
    "editable": true
   },
   "outputs": [
    {
     "ename": "ValueError",
     "evalue": "feature_names mismatch: ['fact_CurrentTotalBalance_count', 'fact_CurrentTotalBalance_mean', 'fact_CurrentTotalBalance_max', 'fact_CurrentTotalBalance_min', 'fact_CurrentTotalBalance_sum', 'fact_CurrentTotalBalance_skew', 'fact_CashBalance_count', 'fact_CashBalance_mean', 'fact_CashBalance_max', 'fact_CashBalance_min', 'fact_CashBalance_sum', 'fact_CashBalance_skew', 'fact_CreditLimit_count', 'fact_CreditLimit_mean', 'fact_CreditLimit_max', 'fact_CreditLimit_min', 'fact_CreditLimit_sum', 'fact_CreditLimit_skew', 'fact_DelqCycle_count', 'fact_DelqCycle_mean', 'fact_DelqCycle_max', 'fact_DelqCycle_min', 'fact_DelqCycle_sum', 'fact_DelqCycle_skew', 'fact_Owning_count', 'fact_Owning_mean', 'fact_Owning_max', 'fact_Owning_min', 'fact_Owning_sum', 'fact_Owning_skew', 'fact_CreditLeft_count', 'fact_CreditLeft_mean', 'fact_CreditLeft_max', 'fact_CreditLeft_min', 'fact_CreditLeft_sum', 'fact_CreditLeft_skew', 'fact_CashRatio_count', 'fact_CashRatio_mean', 'fact_CashRatio_max', 'fact_CashRatio_min', 'fact_CashRatio_sum', 'fact_CashRatio_skew', \"('AmountPaid', 'count')\", \"('AmountPaid', 'mean')\", \"('AmountPaid', 'max')\", \"('AmountPaid', 'min')\", \"('AmountPaid', 'sum')\", \"('AmountPaid', 'skew')\", \"('PRIOR_CREDIT_LIMIT_AMT', 'count')\", \"('PRIOR_CREDIT_LIMIT_AMT', 'mean')\", \"('PRIOR_CREDIT_LIMIT_AMT', 'max')\", \"('PRIOR_CREDIT_LIMIT_AMT', 'min')\", \"('PRIOR_CREDIT_LIMIT_AMT', 'sum')\", \"('PRIOR_CREDIT_LIMIT_AMT', 'skew')\", \"('TRANSACTION_AMT', 'count')\", \"('TRANSACTION_AMT', 'mean')\", \"('TRANSACTION_AMT', 'max')\", \"('TRANSACTION_AMT', 'min')\", \"('TRANSACTION_AMT', 'sum')\", \"('TRANSACTION_AMT', 'skew')\"] [\"('CurrentTotalBalance', 'count')\", \"('CurrentTotalBalance', 'mean')\", \"('CurrentTotalBalance', 'max')\", \"('CurrentTotalBalance', 'min')\", \"('CurrentTotalBalance', 'sum')\", \"('CurrentTotalBalance', 'skew')\", \"('CashBalance', 'count')\", \"('CashBalance', 'mean')\", \"('CashBalance', 'max')\", \"('CashBalance', 'min')\", \"('CashBalance', 'sum')\", \"('CashBalance', 'skew')\", \"('CreditLimit', 'count')\", \"('CreditLimit', 'mean')\", \"('CreditLimit', 'max')\", \"('CreditLimit', 'min')\", \"('CreditLimit', 'sum')\", \"('CreditLimit', 'skew')\", \"('DelqCycle', 'count')\", \"('DelqCycle', 'mean')\", \"('DelqCycle', 'max')\", \"('DelqCycle', 'min')\", \"('DelqCycle', 'sum')\", \"('DelqCycle', 'skew')\", \"('Owning', 'count')\", \"('Owning', 'mean')\", \"('Owning', 'max')\", \"('Owning', 'min')\", \"('Owning', 'sum')\", \"('Owning', 'skew')\", \"('CreditLeft', 'count')\", \"('CreditLeft', 'mean')\", \"('CreditLeft', 'max')\", \"('CreditLeft', 'min')\", \"('CreditLeft', 'sum')\", \"('CreditLeft', 'skew')\", \"('CashRatio', 'count')\", \"('CashRatio', 'mean')\", \"('CashRatio', 'max')\", \"('CashRatio', 'min')\", \"('CashRatio', 'sum')\", \"('CashRatio', 'skew')\", \"('AmountPaid', 'count')\", \"('AmountPaid', 'mean')\", \"('AmountPaid', 'max')\", \"('AmountPaid', 'min')\", \"('AmountPaid', 'sum')\", \"('AmountPaid', 'skew')\", \"('PRIOR_CREDIT_LIMIT_AMT', 'count')\", \"('PRIOR_CREDIT_LIMIT_AMT', 'mean')\", \"('PRIOR_CREDIT_LIMIT_AMT', 'max')\", \"('PRIOR_CREDIT_LIMIT_AMT', 'min')\", \"('PRIOR_CREDIT_LIMIT_AMT', 'sum')\", \"('PRIOR_CREDIT_LIMIT_AMT', 'skew')\", \"('TRANSACTION_AMT', 'count')\", \"('TRANSACTION_AMT', 'mean')\", \"('TRANSACTION_AMT', 'max')\", \"('TRANSACTION_AMT', 'min')\", \"('TRANSACTION_AMT', 'sum')\", \"('TRANSACTION_AMT', 'skew')\"]\nexpected fact_CashBalance_min, fact_CashRatio_max, fact_CreditLimit_max, fact_DelqCycle_mean, fact_CreditLeft_max, fact_Owning_min, fact_CurrentTotalBalance_max, fact_CreditLimit_sum, fact_CashBalance_skew, fact_CurrentTotalBalance_min, fact_CreditLeft_skew, fact_CashBalance_sum, fact_CurrentTotalBalance_count, fact_CreditLimit_skew, fact_CreditLeft_mean, fact_CashBalance_count, fact_CurrentTotalBalance_mean, fact_CreditLimit_min, fact_DelqCycle_skew, fact_CashRatio_skew, fact_DelqCycle_min, fact_CashBalance_mean, fact_Owning_skew, fact_CreditLimit_mean, fact_CreditLeft_count, fact_CreditLeft_sum, fact_Owning_max, fact_CashRatio_sum, fact_DelqCycle_sum, fact_CreditLimit_count, fact_CurrentTotalBalance_skew, fact_DelqCycle_max, fact_CurrentTotalBalance_sum, fact_Owning_count, fact_CashRatio_mean, fact_CashBalance_max, fact_Owning_sum, fact_CashRatio_count, fact_CreditLeft_min, fact_CashRatio_min, fact_DelqCycle_count, fact_Owning_mean in input data\ntraining data did not have the following fields: ('CreditLimit', 'min'), ('CashBalance', 'max'), ('CurrentTotalBalance', 'sum'), ('CurrentTotalBalance', 'mean'), ('CreditLeft', 'skew'), ('CashRatio', 'skew'), ('CreditLimit', 'skew'), ('CurrentTotalBalance', 'min'), ('DelqCycle', 'mean'), ('CashRatio', 'max'), ('CashRatio', 'mean'), ('Owning', 'count'), ('Owning', 'mean'), ('CashRatio', 'sum'), ('DelqCycle', 'count'), ('DelqCycle', 'skew'), ('DelqCycle', 'max'), ('CashBalance', 'count'), ('CreditLeft', 'mean'), ('Owning', 'sum'), ('CurrentTotalBalance', 'skew'), ('CashBalance', 'mean'), ('CreditLimit', 'mean'), ('CurrentTotalBalance', 'count'), ('CashRatio', 'count'), ('CreditLimit', 'sum'), ('CreditLeft', 'count'), ('CashBalance', 'skew'), ('CashBalance', 'min'), ('CreditLeft', 'sum'), ('Owning', 'min'), ('DelqCycle', 'sum'), ('CreditLeft', 'min'), ('CashRatio', 'min'), ('Owning', 'max'), ('Owning', 'skew'), ('CreditLeft', 'max'), ('CashBalance', 'sum'), ('CreditLimit', 'count'), ('DelqCycle', 'min'), ('CurrentTotalBalance', 'max'), ('CreditLimit', 'max')",
     "output_type": "error",
     "traceback": [
      "\u001b[1;31m---------------------------------------------------------------------------\u001b[0m",
      "\u001b[1;31mValueError\u001b[0m                                Traceback (most recent call last)",
      "\u001b[1;32m<ipython-input-149-6851b0754a34>\u001b[0m in \u001b[0;36m<module>\u001b[1;34m()\u001b[0m\n\u001b[1;32m----> 1\u001b[1;33m \u001b[0mpreds\u001b[0m \u001b[1;33m=\u001b[0m \u001b[0mmodel_xgb\u001b[0m\u001b[1;33m.\u001b[0m\u001b[0mpredict_proba\u001b[0m\u001b[1;33m(\u001b[0m\u001b[0mtest\u001b[0m\u001b[1;33m)\u001b[0m\u001b[1;33m[\u001b[0m\u001b[1;33m:\u001b[0m\u001b[1;33m,\u001b[0m \u001b[1;36m1\u001b[0m\u001b[1;33m]\u001b[0m\u001b[1;33m\u001b[0m\u001b[0m\n\u001b[0m\u001b[0;32m      2\u001b[0m \u001b[1;33m\u001b[0m\u001b[0m\n\u001b[0;32m      3\u001b[0m \u001b[0msubmission\u001b[0m \u001b[1;33m=\u001b[0m \u001b[0mpd\u001b[0m\u001b[1;33m.\u001b[0m\u001b[0mDataFrame\u001b[0m\u001b[1;33m(\u001b[0m\u001b[1;33m{\u001b[0m\u001b[1;34m'ID_CPTE'\u001b[0m\u001b[1;33m:\u001b[0m \u001b[0mtest_ids\u001b[0m\u001b[1;33m,\u001b[0m \u001b[1;34m'Default'\u001b[0m\u001b[1;33m:\u001b[0m \u001b[0mpreds\u001b[0m\u001b[1;33m}\u001b[0m\u001b[1;33m)\u001b[0m\u001b[1;33m\u001b[0m\u001b[0m\n\u001b[0;32m      4\u001b[0m \u001b[0msubmission\u001b[0m\u001b[1;33m.\u001b[0m\u001b[0mto_csv\u001b[0m\u001b[1;33m(\u001b[0m\u001b[1;34m'submission_bayesian_optimizatio3.csv'\u001b[0m\u001b[1;33m,\u001b[0m \u001b[0mindex\u001b[0m \u001b[1;33m=\u001b[0m \u001b[1;32mFalse\u001b[0m\u001b[1;33m)\u001b[0m\u001b[1;33m\u001b[0m\u001b[0m\n",
      "\u001b[1;32m~\\Anaconda3\\lib\\site-packages\\xgboost\\sklearn.py\u001b[0m in \u001b[0;36mpredict_proba\u001b[1;34m(self, data, output_margin, ntree_limit)\u001b[0m\n\u001b[0;32m    573\u001b[0m         class_probs = self.get_booster().predict(test_dmatrix,\n\u001b[0;32m    574\u001b[0m                                                  \u001b[0moutput_margin\u001b[0m\u001b[1;33m=\u001b[0m\u001b[0moutput_margin\u001b[0m\u001b[1;33m,\u001b[0m\u001b[1;33m\u001b[0m\u001b[0m\n\u001b[1;32m--> 575\u001b[1;33m                                                  ntree_limit=ntree_limit)\n\u001b[0m\u001b[0;32m    576\u001b[0m         \u001b[1;32mif\u001b[0m \u001b[0mself\u001b[0m\u001b[1;33m.\u001b[0m\u001b[0mobjective\u001b[0m \u001b[1;33m==\u001b[0m \u001b[1;34m\"multi:softprob\"\u001b[0m\u001b[1;33m:\u001b[0m\u001b[1;33m\u001b[0m\u001b[0m\n\u001b[0;32m    577\u001b[0m             \u001b[1;32mreturn\u001b[0m \u001b[0mclass_probs\u001b[0m\u001b[1;33m\u001b[0m\u001b[0m\n",
      "\u001b[1;32m~\\Anaconda3\\lib\\site-packages\\xgboost\\core.py\u001b[0m in \u001b[0;36mpredict\u001b[1;34m(self, data, output_margin, ntree_limit, pred_leaf, pred_contribs, approx_contribs, pred_interactions)\u001b[0m\n\u001b[0;32m   1048\u001b[0m             \u001b[0moption_mask\u001b[0m \u001b[1;33m|=\u001b[0m \u001b[1;36m0x10\u001b[0m\u001b[1;33m\u001b[0m\u001b[0m\n\u001b[0;32m   1049\u001b[0m \u001b[1;33m\u001b[0m\u001b[0m\n\u001b[1;32m-> 1050\u001b[1;33m         \u001b[0mself\u001b[0m\u001b[1;33m.\u001b[0m\u001b[0m_validate_features\u001b[0m\u001b[1;33m(\u001b[0m\u001b[0mdata\u001b[0m\u001b[1;33m)\u001b[0m\u001b[1;33m\u001b[0m\u001b[0m\n\u001b[0m\u001b[0;32m   1051\u001b[0m \u001b[1;33m\u001b[0m\u001b[0m\n\u001b[0;32m   1052\u001b[0m         \u001b[0mlength\u001b[0m \u001b[1;33m=\u001b[0m \u001b[0mc_bst_ulong\u001b[0m\u001b[1;33m(\u001b[0m\u001b[1;33m)\u001b[0m\u001b[1;33m\u001b[0m\u001b[0m\n",
      "\u001b[1;32m~\\Anaconda3\\lib\\site-packages\\xgboost\\core.py\u001b[0m in \u001b[0;36m_validate_features\u001b[1;34m(self, data)\u001b[0m\n\u001b[0;32m   1306\u001b[0m \u001b[1;33m\u001b[0m\u001b[0m\n\u001b[0;32m   1307\u001b[0m                 raise ValueError(msg.format(self.feature_names,\n\u001b[1;32m-> 1308\u001b[1;33m                                             data.feature_names))\n\u001b[0m\u001b[0;32m   1309\u001b[0m \u001b[1;33m\u001b[0m\u001b[0m\n\u001b[0;32m   1310\u001b[0m     \u001b[1;32mdef\u001b[0m \u001b[0mget_split_value_histogram\u001b[0m\u001b[1;33m(\u001b[0m\u001b[0mself\u001b[0m\u001b[1;33m,\u001b[0m \u001b[0mfeature\u001b[0m\u001b[1;33m,\u001b[0m \u001b[0mfmap\u001b[0m\u001b[1;33m=\u001b[0m\u001b[1;34m''\u001b[0m\u001b[1;33m,\u001b[0m \u001b[0mbins\u001b[0m\u001b[1;33m=\u001b[0m\u001b[1;32mNone\u001b[0m\u001b[1;33m,\u001b[0m \u001b[0mas_pandas\u001b[0m\u001b[1;33m=\u001b[0m\u001b[1;32mTrue\u001b[0m\u001b[1;33m)\u001b[0m\u001b[1;33m:\u001b[0m\u001b[1;33m\u001b[0m\u001b[0m\n",
      "\u001b[1;31mValueError\u001b[0m: feature_names mismatch: ['fact_CurrentTotalBalance_count', 'fact_CurrentTotalBalance_mean', 'fact_CurrentTotalBalance_max', 'fact_CurrentTotalBalance_min', 'fact_CurrentTotalBalance_sum', 'fact_CurrentTotalBalance_skew', 'fact_CashBalance_count', 'fact_CashBalance_mean', 'fact_CashBalance_max', 'fact_CashBalance_min', 'fact_CashBalance_sum', 'fact_CashBalance_skew', 'fact_CreditLimit_count', 'fact_CreditLimit_mean', 'fact_CreditLimit_max', 'fact_CreditLimit_min', 'fact_CreditLimit_sum', 'fact_CreditLimit_skew', 'fact_DelqCycle_count', 'fact_DelqCycle_mean', 'fact_DelqCycle_max', 'fact_DelqCycle_min', 'fact_DelqCycle_sum', 'fact_DelqCycle_skew', 'fact_Owning_count', 'fact_Owning_mean', 'fact_Owning_max', 'fact_Owning_min', 'fact_Owning_sum', 'fact_Owning_skew', 'fact_CreditLeft_count', 'fact_CreditLeft_mean', 'fact_CreditLeft_max', 'fact_CreditLeft_min', 'fact_CreditLeft_sum', 'fact_CreditLeft_skew', 'fact_CashRatio_count', 'fact_CashRatio_mean', 'fact_CashRatio_max', 'fact_CashRatio_min', 'fact_CashRatio_sum', 'fact_CashRatio_skew', \"('AmountPaid', 'count')\", \"('AmountPaid', 'mean')\", \"('AmountPaid', 'max')\", \"('AmountPaid', 'min')\", \"('AmountPaid', 'sum')\", \"('AmountPaid', 'skew')\", \"('PRIOR_CREDIT_LIMIT_AMT', 'count')\", \"('PRIOR_CREDIT_LIMIT_AMT', 'mean')\", \"('PRIOR_CREDIT_LIMIT_AMT', 'max')\", \"('PRIOR_CREDIT_LIMIT_AMT', 'min')\", \"('PRIOR_CREDIT_LIMIT_AMT', 'sum')\", \"('PRIOR_CREDIT_LIMIT_AMT', 'skew')\", \"('TRANSACTION_AMT', 'count')\", \"('TRANSACTION_AMT', 'mean')\", \"('TRANSACTION_AMT', 'max')\", \"('TRANSACTION_AMT', 'min')\", \"('TRANSACTION_AMT', 'sum')\", \"('TRANSACTION_AMT', 'skew')\"] [\"('CurrentTotalBalance', 'count')\", \"('CurrentTotalBalance', 'mean')\", \"('CurrentTotalBalance', 'max')\", \"('CurrentTotalBalance', 'min')\", \"('CurrentTotalBalance', 'sum')\", \"('CurrentTotalBalance', 'skew')\", \"('CashBalance', 'count')\", \"('CashBalance', 'mean')\", \"('CashBalance', 'max')\", \"('CashBalance', 'min')\", \"('CashBalance', 'sum')\", \"('CashBalance', 'skew')\", \"('CreditLimit', 'count')\", \"('CreditLimit', 'mean')\", \"('CreditLimit', 'max')\", \"('CreditLimit', 'min')\", \"('CreditLimit', 'sum')\", \"('CreditLimit', 'skew')\", \"('DelqCycle', 'count')\", \"('DelqCycle', 'mean')\", \"('DelqCycle', 'max')\", \"('DelqCycle', 'min')\", \"('DelqCycle', 'sum')\", \"('DelqCycle', 'skew')\", \"('Owning', 'count')\", \"('Owning', 'mean')\", \"('Owning', 'max')\", \"('Owning', 'min')\", \"('Owning', 'sum')\", \"('Owning', 'skew')\", \"('CreditLeft', 'count')\", \"('CreditLeft', 'mean')\", \"('CreditLeft', 'max')\", \"('CreditLeft', 'min')\", \"('CreditLeft', 'sum')\", \"('CreditLeft', 'skew')\", \"('CashRatio', 'count')\", \"('CashRatio', 'mean')\", \"('CashRatio', 'max')\", \"('CashRatio', 'min')\", \"('CashRatio', 'sum')\", \"('CashRatio', 'skew')\", \"('AmountPaid', 'count')\", \"('AmountPaid', 'mean')\", \"('AmountPaid', 'max')\", \"('AmountPaid', 'min')\", \"('AmountPaid', 'sum')\", \"('AmountPaid', 'skew')\", \"('PRIOR_CREDIT_LIMIT_AMT', 'count')\", \"('PRIOR_CREDIT_LIMIT_AMT', 'mean')\", \"('PRIOR_CREDIT_LIMIT_AMT', 'max')\", \"('PRIOR_CREDIT_LIMIT_AMT', 'min')\", \"('PRIOR_CREDIT_LIMIT_AMT', 'sum')\", \"('PRIOR_CREDIT_LIMIT_AMT', 'skew')\", \"('TRANSACTION_AMT', 'count')\", \"('TRANSACTION_AMT', 'mean')\", \"('TRANSACTION_AMT', 'max')\", \"('TRANSACTION_AMT', 'min')\", \"('TRANSACTION_AMT', 'sum')\", \"('TRANSACTION_AMT', 'skew')\"]\nexpected fact_CashBalance_min, fact_CashRatio_max, fact_CreditLimit_max, fact_DelqCycle_mean, fact_CreditLeft_max, fact_Owning_min, fact_CurrentTotalBalance_max, fact_CreditLimit_sum, fact_CashBalance_skew, fact_CurrentTotalBalance_min, fact_CreditLeft_skew, fact_CashBalance_sum, fact_CurrentTotalBalance_count, fact_CreditLimit_skew, fact_CreditLeft_mean, fact_CashBalance_count, fact_CurrentTotalBalance_mean, fact_CreditLimit_min, fact_DelqCycle_skew, fact_CashRatio_skew, fact_DelqCycle_min, fact_CashBalance_mean, fact_Owning_skew, fact_CreditLimit_mean, fact_CreditLeft_count, fact_CreditLeft_sum, fact_Owning_max, fact_CashRatio_sum, fact_DelqCycle_sum, fact_CreditLimit_count, fact_CurrentTotalBalance_skew, fact_DelqCycle_max, fact_CurrentTotalBalance_sum, fact_Owning_count, fact_CashRatio_mean, fact_CashBalance_max, fact_Owning_sum, fact_CashRatio_count, fact_CreditLeft_min, fact_CashRatio_min, fact_DelqCycle_count, fact_Owning_mean in input data\ntraining data did not have the following fields: ('CreditLimit', 'min'), ('CashBalance', 'max'), ('CurrentTotalBalance', 'sum'), ('CurrentTotalBalance', 'mean'), ('CreditLeft', 'skew'), ('CashRatio', 'skew'), ('CreditLimit', 'skew'), ('CurrentTotalBalance', 'min'), ('DelqCycle', 'mean'), ('CashRatio', 'max'), ('CashRatio', 'mean'), ('Owning', 'count'), ('Owning', 'mean'), ('CashRatio', 'sum'), ('DelqCycle', 'count'), ('DelqCycle', 'skew'), ('DelqCycle', 'max'), ('CashBalance', 'count'), ('CreditLeft', 'mean'), ('Owning', 'sum'), ('CurrentTotalBalance', 'skew'), ('CashBalance', 'mean'), ('CreditLimit', 'mean'), ('CurrentTotalBalance', 'count'), ('CashRatio', 'count'), ('CreditLimit', 'sum'), ('CreditLeft', 'count'), ('CashBalance', 'skew'), ('CashBalance', 'min'), ('CreditLeft', 'sum'), ('Owning', 'min'), ('DelqCycle', 'sum'), ('CreditLeft', 'min'), ('CashRatio', 'min'), ('Owning', 'max'), ('Owning', 'skew'), ('CreditLeft', 'max'), ('CashBalance', 'sum'), ('CreditLimit', 'count'), ('DelqCycle', 'min'), ('CurrentTotalBalance', 'max'), ('CreditLimit', 'max')"
     ]
    }
   ],
   "source": [
    "preds = model_xgb.predict_proba(test)[:, 1]\n",
    "\n",
    "submission = pd.DataFrame({'ID_CPTE': test_ids, 'Default': preds})\n",
    "submission.to_csv('submission_bayesian_optimizatio3.csv', index = False)"
   ]
  },
  {
   "cell_type": "code",
   "execution_count": null,
   "metadata": {
    "collapsed": true,
    "deletable": true,
    "editable": true
   },
   "outputs": [],
   "source": []
  },
  {
   "cell_type": "code",
   "execution_count": null,
   "metadata": {
    "collapsed": true
   },
   "outputs": [],
   "source": []
  }
 ],
 "metadata": {
  "kernelspec": {
   "display_name": "Python 3",
   "language": "python",
   "name": "python3"
  },
  "language_info": {
   "codemirror_mode": {
    "name": "ipython",
    "version": 3
   },
   "file_extension": ".py",
   "mimetype": "text/x-python",
   "name": "python",
   "nbconvert_exporter": "python",
   "pygments_lexer": "ipython3",
   "version": "3.6.3"
  }
 },
 "nbformat": 4,
 "nbformat_minor": 2
}
